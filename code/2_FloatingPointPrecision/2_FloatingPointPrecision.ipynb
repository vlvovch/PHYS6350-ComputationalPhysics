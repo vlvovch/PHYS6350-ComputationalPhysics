{
 "cells": [
  {
   "cell_type": "markdown",
   "metadata": {},
   "source": [
    "# Accuracy of operations involving floating point numbers"
   ]
  },
  {
   "cell_type": "markdown",
   "metadata": {},
   "source": [
    "### Example 1: Equality test for two floats\n",
    "\n",
    "Equality tests involving two floating point numbers can be tricky\n",
    "\n",
    "Consider $x = 1.1 + 2.2$.\n",
    "\n",
    "The answer should be $x = 3.3$ but due to round-off error one can only assume $x = 3.3 + \\varepsilon_M$ where e.g. $\\varepsilon_M \\sim 10^{-15}$ is the machine precision for 64-bit floating point numbers.\n",
    "\n",
    "For this reason an equality test $x == 3.3$ might give some unexpected results..."
   ]
  },
  {
   "cell_type": "code",
   "execution_count": 1,
   "metadata": {},
   "outputs": [
    {
     "name": "stdout",
     "output_type": "stream",
     "text": [
      "x =  3.3000000000000003\n",
      "3.3\n",
      "x == 3.3 is False\n"
     ]
    }
   ],
   "source": [
    "x = 1.1 + 2.2\n",
    "\n",
    "print(\"x = \",x)\n",
    "print(3.3)\n",
    "\n",
    "if (x == 3.3):\n",
    "    print(\"x == 3.3 is True\")\n",
    "else:\n",
    "    print(\"x == 3.3 is False\")\n"
   ]
  },
  {
   "cell_type": "markdown",
   "metadata": {},
   "source": [
    "A safer way to compare two floats is to check the equality only wihtin a certain precision $\\varepsilon$"
   ]
  },
  {
   "cell_type": "code",
   "execution_count": 2,
   "metadata": {},
   "outputs": [
    {
     "name": "stdout",
     "output_type": "stream",
     "text": [
      "x =  3.3000000000000003\n",
      "x == 3.3 to a precision of 1e-12 is True\n"
     ]
    }
   ],
   "source": [
    "print(\"x = \",x)\n",
    "\n",
    "# The desired precision\n",
    "eps = 1.e-12\n",
    "\n",
    "# The comparison\n",
    "if (abs(x-3.3) < eps):\n",
    "    print(\"x == 3.3 to a precision of\",eps,\"is True\")\n",
    "else:\n",
    "    print(\"x == 3.3 to a precision of\",eps,\"is False\")"
   ]
  },
  {
   "cell_type": "code",
   "execution_count": 51,
   "metadata": {},
   "outputs": [
    {
     "name": "stdout",
     "output_type": "stream",
     "text": [
      "5.0\n",
      "x == 3.3 is False\n"
     ]
    }
   ],
   "source": [
    "import numpy as np\n",
    "\n",
    "print(np.sqrt(25))\n",
    "\n",
    "if (np.sqrt(36.+1.e-13) == np.round(np.sqrt(36))):\n",
    "    print(\"x == 3.3 is True\")\n",
    "else:\n",
    "    print(\"x == 3.3 is False\")"
   ]
  },
  {
   "cell_type": "markdown",
   "metadata": {},
   "source": [
    "### Example 2: Subtracting two large numbers with a small difference\n",
    "\n",
    "Let us have $x = 1$ and $y = 1 + \\delta \\sqrt{2}$\n",
    "\n",
    "It follows that $$\\delta^{-1} (y - x) = \\sqrt{2} = 1.41421356237\\dots$$\n",
    "\n",
    "Let us test this relation on a computer for a very small value of $\\delta = 10^{-14}$"
   ]
  },
  {
   "cell_type": "code",
   "execution_count": 16,
   "metadata": {},
   "outputs": [
    {
     "name": "stdout",
     "output_type": "stream",
     "text": [
      "x =  1.0\n",
      "y =  1.0000000000000142\n",
      "(y-x) =  1.4210854715202004e-14\n",
      "(1/delta) * (y-x) =  1.4210854715202004\n",
      "The accurate value is sqrt(2) =  1.4142135623730951\n",
      "The difference is  0.006871909147105226\n"
     ]
    }
   ],
   "source": [
    "from math import sqrt\n",
    "\n",
    "delta = 1.e-14\n",
    "x = 1.\n",
    "y = 1. + delta * sqrt(2)\n",
    "print(\"x = \", x)\n",
    "print(\"y = \", y)\n",
    "res = (1./delta)*(y-x)\n",
    "print(\"(y-x) = \",y-x)\n",
    "print(\"(1/delta) * (y-x) = \",res)\n",
    "print(\"The accurate value is sqrt(2) = \", sqrt(2))\n",
    "print(\"The difference is \", res - sqrt(2))"
   ]
  },
  {
   "cell_type": "markdown",
   "metadata": {},
   "source": [
    "Try smaller/bigger values of $\\delta$ and observe the behavior, e.g. $\\delta = 10^{-5}$ or $\\delta = 10^{-16}$"
   ]
  },
  {
   "cell_type": "markdown",
   "metadata": {},
   "source": [
    "### Example 3: Roots of the quadratic equation\n",
    "\n",
    "The quadratic equation $$ax^2+bx+c = 0$$ has the following two roots\n",
    "$$\n",
    "x_{1,2} = \\frac{-b \\pm \\sqrt{b^2 - 4ac}}{2a}\n",
    "$$\n",
    "\n",
    "Let us calculate the roots for $a = 10^{-4}$, $b = 10^4$, and $c = 10^{-4}$"
   ]
  },
  {
   "cell_type": "code",
   "execution_count": 4,
   "metadata": {},
   "outputs": [
    {
     "name": "stdout",
     "output_type": "stream",
     "text": [
      "x1 =  -9.094947017729282e-09\n",
      "x2 =  -100000000.0\n"
     ]
    }
   ],
   "source": [
    "a = 1.e-4\n",
    "b = 1.e4\n",
    "c = 1.e-4\n",
    "\n",
    "x1 = (-b + sqrt(b*b - 4.*a*c)) / (2.*a)\n",
    "x2 = (-b - sqrt(b*b - 4.*a*c)) / (2.*a)\n",
    "\n",
    "print(\"x1 = \", x1)\n",
    "print(\"x2 = \", x2)"
   ]
  },
  {
   "cell_type": "markdown",
   "metadata": {},
   "source": [
    "Do the results look accurate to you?\n",
    "\n",
    "The value of $x_1$ is not accurate due to subtracting two large numbers with small difference $b$ and $\\sqrt{b^2-4ac}$.\n",
    "\n",
    "Consider another form of the solution.\n",
    "By multiplying the numerator and denominator of the above expression for $x_{1,2}$ by $(-b\\mp\\sqrt{b^2-4ac})$ one obtains\n",
    "\n",
    "$$\n",
    "x_{1,2} = \\frac{2c}{-b \\mp \\sqrt{b^2-4ac}}\n",
    "$$\n",
    "\n",
    "Let us see what we get now"
   ]
  },
  {
   "cell_type": "code",
   "execution_count": 5,
   "metadata": {},
   "outputs": [
    {
     "name": "stdout",
     "output_type": "stream",
     "text": [
      "x1 =  -1e-08\n",
      "x2 =  -109951162.7776\n"
     ]
    }
   ],
   "source": [
    "x1 = 2*c / (-b - sqrt(b*b-4.*a*c))\n",
    "x2 = 2*c / (-b + sqrt(b*b-4.*a*c))\n",
    "\n",
    "print(\"x1 = \", x1)\n",
    "print(\"x2 = \", x2)"
   ]
  },
  {
   "cell_type": "markdown",
   "metadata": {},
   "source": [
    "This time $x_1$ is fine, but not $x_2$.\n",
    "\n",
    "One, therefore, has to combine the two forms to get accurate results for both $x_1$ and $x_2$.\n",
    "\n",
    "Consider writing a function which avoids large round-off errors for both $x_1$ and $x_2$"
   ]
  },
  {
   "cell_type": "markdown",
   "metadata": {},
   "source": [
    "### Exercise:\n",
    "\n",
    "Consider now the quadratic equation with parameters $a = 10^{-4}$, $b = -10^4$, and $c = 10^{-4}$, where the sign of $b$ is now reversed. \n",
    "\n",
    "- Can you calculate both roots $x_{1,2}$ accurately in this case?\n",
    "- Which form should you use for $x_1$ and which for $x_2$ and why?"
   ]
  },
  {
   "cell_type": "markdown",
   "metadata": {},
   "source": [
    "### Example 4: Numerical derivative\n",
    "\n",
    "Consider a function \n",
    "$$f(x) = x(x-1)~.$$\n",
    "Its derivative is \n",
    "$$f'(x) = \\lim_{h \\to 0} \\frac{f(x+h)-f(x)}{h} = 2x - 1$$\n",
    "\n",
    "Let us calculate the derivative numerically by using small but finite values of $h$ ranging from $1$ down to $10^{-16}$ at $x = 1$\n",
    "and compare it to the correct result, $f'(1) = 1$."
   ]
  },
  {
   "cell_type": "code",
   "execution_count": 18,
   "metadata": {},
   "outputs": [
    {
     "name": "stdout",
     "output_type": "stream",
     "text": [
      "h          f'(1)                Relative error      \n",
      "1          2.0                  1.0                 \n",
      "0.1        1.100000000000001    0.10000000000000098 \n",
      "0.01       1.010000000000001    0.010000000000000897\n",
      "0.001      1.0009999999998895   0.0009999999998895337\n",
      "0.0001     1.0000999999998899   9.999999988985486e-05\n",
      "1e-05      1.0000100000065513   1.0000006551269536e-05\n",
      "1e-06      1.0000009999177333   9.99917733279787e-07\n",
      "1e-07      1.0000001005838672   1.0058386723521551e-07\n",
      "1e-08      1.0000000039225287   3.922528746258536e-09\n",
      "1e-09      1.000000083740371    8.374037108183074e-08\n",
      "1e-10      1.000000082840371    8.284037100736441e-08\n",
      "1e-11      1.000000082750371    8.275037099991778e-08\n",
      "1e-12      1.0000889005833413   8.890058334132256e-05\n",
      "1e-13      0.9992007221627407   0.0007992778372593046\n",
      "1e-14      0.9992007221626509   0.0007992778373491216\n",
      "1e-15      1.1102230246251577   0.11022302462515765 \n",
      "1e-16      0.0                  1.0                 \n",
      "1e-17      0.0                  1.0                 \n",
      "1e-18      0.0                  1.0                 \n",
      "1e-19      0.0                  1.0                 \n"
     ]
    }
   ],
   "source": [
    "def f(x):\n",
    "    return x*(x-1.)\n",
    "\n",
    "def df_exact(x):\n",
    "    return 2.*x - 1.\n",
    "\n",
    "def df_numeric(x,h):\n",
    "    return (f(x+h) - f(x)) / h\n",
    "\n",
    "print(\"{:<10} {:<20} {:<20}\".format('h',\"f'(1)\",\"Relative error\"))\n",
    "x0 = 1.\n",
    "\n",
    "arr_h = []\n",
    "arr_df = []\n",
    "arr_err = []\n",
    "\n",
    "for i in range(0,-20,-1):\n",
    "    h = 10**i\n",
    "    df_val = df_numeric(x0,h)\n",
    "    df_err = abs(df_numeric(x0,h) - df_exact(x0)) / df_exact(x0)\n",
    "    print(\"{:<10} {:<20} {:<20}\".format(h,df_val,df_err))\n",
    "    arr_h.append(h)\n",
    "    arr_df.append(df_val)\n",
    "    arr_err.append(df_err)"
   ]
  },
  {
   "cell_type": "markdown",
   "metadata": {},
   "source": [
    "The accurace of our numerical derivative first increases as $h$ becomes smaller, as expected, but then increases again. This is due to large round-off error when $h$ become very small compared to $f$.\n",
    "\n",
    "Let us plot the dependence of the relative accuracy vs $h$"
   ]
  },
  {
   "cell_type": "code",
   "execution_count": 19,
   "metadata": {},
   "outputs": [
    {
     "data": {
      "image/png": "[encoded data removed]",
      "text/plain": [
       "<Figure size 640x480 with 1 Axes>"
      ]
     },
     "metadata": {},
     "output_type": "display_data"
    }
   ],
   "source": [
    "import matplotlib.pyplot as plt\n",
    "\n",
    "plt.title(\"Accuracy of the numerical derivative\")\n",
    "plt.xlabel(\"${h}$\", fontsize=18)\n",
    "plt.ylabel(\"relative error\", fontsize=18)\n",
    "plt.xscale('log')\n",
    "plt.yscale('log')\n",
    "plt.scatter(arr_h, arr_err, color=\"red\")\n",
    "\n",
    "plt.show()"
   ]
  }
 ],
 "metadata": {
  "kernelspec": {
   "display_name": "Python 3 (ipykernel)",
   "language": "python",
   "name": "python3"
  },
  "language_info": {
   "codemirror_mode": {
    "name": "ipython",
    "version": 3
   },
   "file_extension": ".py",
   "mimetype": "text/x-python",
   "name": "python",
   "nbconvert_exporter": "python",
   "pygments_lexer": "ipython3",
   "version": "3.9.13"
  }
 },
 "nbformat": 4,
 "nbformat_minor": 2
}
