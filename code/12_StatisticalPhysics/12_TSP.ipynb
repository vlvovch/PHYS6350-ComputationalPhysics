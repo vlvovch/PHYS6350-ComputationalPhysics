{
 "cells": [
  {
   "cell_type": "markdown",
   "metadata": {},
   "source": [
    "## Simulated annealing for the traveling salesman problem\n",
    "\n",
    "The code is adapted from Example 10.4 from M. Newman, *Computational Physics*"
   ]
  },
  {
   "cell_type": "code",
   "execution_count": 49,
   "metadata": {},
   "outputs": [
    {
     "data": {
      "text/html": [
       "<div id=\"glowscript\" class=\"glowscript\"></div>"
      ],
      "text/plain": [
       "<IPython.core.display.HTML object>"
      ]
     },
     "metadata": {},
     "output_type": "display_data"
    },
    {
     "data": {
      "application/javascript": [
       "if (typeof Jupyter !== \"undefined\") { window.__context = { glowscript_container: $(\"#glowscript\").removeAttr(\"id\")};}else{ element.textContent = ' ';}"
      ],
      "text/plain": [
       "<IPython.core.display.Javascript object>"
      ]
     },
     "metadata": {},
     "output_type": "display_data"
    }
   ],
   "source": [
    "# Traveling salesman problem, from http://www-personal.umich.edu/~mejn/cp/programs/salesman.py\n",
    "# Adapted to use vpython, jupyter-notebook, and outpur current temperature and distance\n",
    "\n",
    "from math import sqrt,exp\n",
    "from numpy import empty\n",
    "from random import random,randrange,seed\n",
    "from vpython import *\n",
    "from IPython.display import clear_output\n",
    "\n",
    "scene = canvas()\n",
    "\n",
    "N = 200\n",
    "R = 0.02\n",
    "Tmax = 10.0\n",
    "Tmin = 1e-3\n",
    "tau = 1e5\n",
    "\n",
    "# Function to calculate the magnitude of a vector\n",
    "def mag(x):\n",
    "    return sqrt(x.x**2+x.y**2)\n",
    "\n",
    "# Function to calculate the total length of the tour\n",
    "def distance():\n",
    "    s = 0.0\n",
    "    for i in range(N):\n",
    "        s += mag(r[i+1]-r[i])\n",
    "    return s\n",
    "\n",
    "seed(10)\n",
    "# Choose N city locations and calculate the initial distance\n",
    "# r = empty([N+1,2],float)\n",
    "r = [vector(0.,0.,0) for i in range(N+1)]\n",
    "for i in range(N):\n",
    "    r[i].x = random()\n",
    "    r[i].y = random()\n",
    "r[N] = r[0]\n",
    "D = distance()\n",
    "\n",
    "# Set up the graphics\n",
    "display(center=[0.5,0.5])\n",
    "for i in range(N):\n",
    "    sphere(pos=r[i],radius=R)\n",
    "l = curve(pos=r,radius=R/2)\n",
    "lab = label(text=\"T = 1\", pos=vector(-1.,0.8,0.))\n",
    "lab.text = \"T = \" + '{0:.3f}'.format(T) + \", D = \" + '{0:.3f}'.format(D) \n",
    "\n",
    "# Main loop\n",
    "t = 0\n",
    "T = Tmax\n",
    "while T>Tmin:\n",
    "\n",
    "    # Cooling\n",
    "    t += 1\n",
    "    T = Tmax*exp(-t/tau)\n",
    "\n",
    "    # Update the visualization every 100 moves\n",
    "    if t%100==0:\n",
    "        #clear_output()\n",
    "        #print(\"T =\",T)\n",
    "        #print(\"distance =\",D)\n",
    "        l.clear()\n",
    "        l = curve(pos=r,radius=R/2)\n",
    "        lab.text = \"T = \" + '{0:.3f}'.format(T) + \", D = \" + '{0:.3f}'.format(D) \n",
    "        rate(60)\n",
    "\n",
    "    # Choose two cities to swap and make sure they are distinct\n",
    "    i,j = randrange(1,N),randrange(1,N)\n",
    "    while i==j:\n",
    "        i,j = randrange(1,N),randrange(1,N)\n",
    "\n",
    "    # Swap them and calculate the change in distance\n",
    "    oldD = D\n",
    "    #r[i,0],r[j,0] = r[j,0],r[i,0]\n",
    "    #r[i,1],r[j,1] = r[j,1],r[i,1]\n",
    "    r[i],r[j] = r[j],r[i]\n",
    "    D = distance()\n",
    "    deltaD = D - oldD\n",
    "\n",
    "    # If the move is rejected, swap them back again\n",
    "    if random()>exp(-deltaD/T):\n",
    "        #r[i,0],r[j,0] = r[j,0],r[i,0]\n",
    "        #r[i,1],r[j,1] = r[j,1],r[i,1]\n",
    "        r[i],r[j] = r[j],r[i]\n",
    "        D = oldD"
   ]
  },
  {
   "cell_type": "code",
   "execution_count": null,
   "metadata": {},
   "outputs": [],
   "source": []
  }
 ],
 "metadata": {
  "kernelspec": {
   "display_name": "Python 3 (ipykernel)",
   "language": "python",
   "name": "python3"
  },
  "language_info": {
   "codemirror_mode": {
    "name": "ipython",
    "version": 3
   },
   "file_extension": ".py",
   "mimetype": "text/x-python",
   "name": "python",
   "nbconvert_exporter": "python",
   "pygments_lexer": "ipython3",
   "version": "3.9.13"
  }
 },
 "nbformat": 4,
 "nbformat_minor": 4
}
