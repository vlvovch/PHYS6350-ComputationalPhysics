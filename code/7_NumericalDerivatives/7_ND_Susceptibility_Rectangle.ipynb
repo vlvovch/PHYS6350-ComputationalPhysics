{
 "cells": [
  {
   "cell_type": "code",
   "execution_count": 1,
   "metadata": {},
   "outputs": [],
   "source": [
    "import numpy as np"
   ]
  },
  {
   "cell_type": "markdown",
   "metadata": {},
   "source": [
    "## Example: Susceptibility and Bose-Einstein condensation\n",
    "\n",
    "Recall the density of an ideal gas:\n",
    "$$\n",
    "\\tilde n (T,\\tilde \\mu) = \\frac{d}{2\\pi^2} \\int_0^\\infty d \\tilde k \\, \\tilde k^2 \\, \\left[\\exp\\left\\{\\sqrt{\\tilde{m}^2+\\tilde k^2}-\\tilde{\\mu}\\right\\} + \\eta \\right ]^{-1}~,\n",
    "$$\n",
    "where $\\tilde n \\equiv n/T^3$, $\\tilde m = m/T$, and $\\tilde \\mu = \\mu / T$.\n",
    "\n",
    "\n",
    "We previosuly learned to calculate this density using numerical integration.\n",
    "The susceptibility is defined as a derivative of the density with respect to chemical potential\n",
    "$$\n",
    "\\chi_2 = \\frac{\\partial \\tilde{n} (\\tilde T, \\tilde{\\mu})}{\\partial \\tilde \\mu}.\n",
    "$$\n",
    "\n",
    "For a pion gas ($m = 138~\\textrm{MeV}, d = 1, T = 150~\\textrm{MeV}$),\n",
    "\n",
    "1. Compute the susceptibility $\\chi_2$ using finite differences at $\\tilde{\\mu} = 0$, for $\\eta = 0$ and $\\eta = -1$.\n",
    "2. Compare the result for $\\chi_2$ to the one obtained by numerically integrating the following expression\n",
    "$$\n",
    "\\chi_2 = \\frac{d}{2\\pi^2} \\int_0^\\infty d \\tilde k \\, \\tilde k^2 \\, \\frac{\\exp\\left\\{\\sqrt{\\tilde{m}^2+\\tilde k^2}-\\tilde{\\mu}\\right\\}} {\\left[\\exp\\left\\{\\sqrt{\\tilde{m}^2+\\tilde k^2}-\\tilde{\\mu}\\right\\} + \\eta \\right ]^{2}},\n",
    "$$\n",
    "3. Compute the susceptibility as a function of $\\tilde{\\mu}$ in a range $\\tilde{\\mu} \\in (0,\\tilde{m})$. What is the behavior of $\\chi_2$ as $\\tilde{\\mu}$ approaches the Bose condensation point, $\\tilde{\\mu} = \\tilde{m}$?"
   ]
  },
  {
   "cell_type": "markdown",
   "metadata": {},
   "source": [
    "## Solution"
   ]
  },
  {
   "cell_type": "markdown",
   "metadata": {},
   "source": [
    "## Preliminaries\n",
    "\n",
    "Import numerical integration routines and the density as a numerical integral\n",
    "\n"
   ]
  },
  {
   "cell_type": "code",
   "execution_count": 2,
   "metadata": {},
   "outputs": [
    {
     "name": "stdout",
     "output_type": "stream",
     "text": [
      "0\n"
     ]
    }
   ],
   "source": [
    "from NI_density_aux_rectangle import *\n",
    "import NI_density_aux_rectangle\n",
    "#%run NI_density_aux.py\n",
    "print(eta)"
   ]
  },
  {
   "cell_type": "markdown",
   "metadata": {},
   "source": [
    "Test that it works as expected"
   ]
  },
  {
   "cell_type": "code",
   "execution_count": 4,
   "metadata": {},
   "outputs": [
    {
     "name": "stdout",
     "output_type": "stream",
     "text": [
      "Testing NI_density_aux.py\n",
      "n/T^3 = 0.09332222854717481\n"
     ]
    }
   ],
   "source": [
    "NI_density_aux_rectangle.eta = -1\n",
    "eps = 1e-6\n",
    "T = 150\n",
    "mu = 0\n",
    "\n",
    "print(\"Testing NI_density_aux.py\")\n",
    "print(\"n/T^3 =\", nT3num(T, mu, eps))\n",
    "# print(\"n/T^3 =\", nT3numNrect(T, mu, 100))"
   ]
  },
  {
   "cell_type": "markdown",
   "metadata": {},
   "source": [
    "## Step 1\n",
    "\n",
    "We will use central difference"
   ]
  },
  {
   "cell_type": "code",
   "execution_count": 5,
   "metadata": {},
   "outputs": [
    {
     "name": "stdout",
     "output_type": "stream",
     "text": [
      "Maxwell-Boltzmann chi2 = 0.08472249363525308\n",
      "    Bose-Einstein chi2 = 0.1040395467589994\n",
      "Bose-Einstein (Nrect = 100) chi2 = 0.1040395469879829\n"
     ]
    }
   ],
   "source": [
    "def chinumder(T, mu, dmu, eps = 1.e-6):\n",
    "    # mu - chemical potential\n",
    "    # dmu - step size in dimensionless mu for numerical derivative\n",
    "    # eps - accuracy goal for numerical integration\n",
    "    \n",
    "    # Central difference\n",
    "    # chi ~ T * (nT3(mu + dmu) - nT3(mu - dmu)) / (2 * dmu)\n",
    "    nplus = nT3num(T, mu + dmu, eps)\n",
    "    nminus = nT3num(T, mu - dmu, eps)\n",
    "    return T * (nplus - nminus) / (2 * dmu)\n",
    "\n",
    "def chinumderNrect(T, mu, dmu, Nrect = 100):\n",
    "    # mu - chemical potential\n",
    "    # dmu - step size in dimensionless mu for numerical derivative\n",
    "    # eps - accuracy goal for numerical integration\n",
    "    \n",
    "    # Central difference\n",
    "    # chi ~ T * (nT3(mu + dmu) - nT3(mu - dmu)) / (2 * dmu)\n",
    "    nplus = nT3numNrect(T, mu + dmu, Nrect)\n",
    "    nminus = nT3numNrect(T, mu - dmu, Nrect)\n",
    "    return T * (nplus - nminus) / (2 * dmu)\n",
    "\n",
    "T = 150\n",
    "mu = 0\n",
    "m = 138\n",
    "d = 1\n",
    "\n",
    "NI_density_aux_rectangle.eta = 0\n",
    "dmu = 1.e-4\n",
    "print(\"Maxwell-Boltzmann chi2 =\", chinumder(T, mu, dmu, eps))\n",
    "NI_density_aux_rectangle.eta = -1\n",
    "print(\"    Bose-Einstein chi2 =\", chinumder(T, mu, dmu, eps))\n",
    "NI_density_aux_rectangle.eta = -1\n",
    "print(\"Bose-Einstein (Nrect = 100) chi2 =\", chinumderNrect(T, mu, dmu, 100))"
   ]
  },
  {
   "cell_type": "markdown",
   "metadata": {},
   "source": [
    "## Step 2"
   ]
  },
  {
   "cell_type": "code",
   "execution_count": 6,
   "metadata": {},
   "outputs": [
    {
     "name": "stdout",
     "output_type": "stream",
     "text": [
      "    Bose-Einstein chi2 = 0.10403954674823858\n"
     ]
    }
   ],
   "source": [
    "# Implement the evaluation of chi2 using numerical integration\n",
    "def chiIntegral(T, mu, eps = 1.e-6):\n",
    "    # Nrect - number of subintervals for rectangle rule evaluating the integral\n",
    "    # print(\"chiIntegral not implemented!\")\n",
    "    def chi2Integrand(k):\n",
    "        return d / (2. * np.pi**2) * k**2 * np.exp(np.sqrt((m/T)**2+k**2)-mu/T) / (np.exp(np.sqrt((m/T)**2+k**2)-mu/T) + eta)**2\n",
    "    \n",
    "    def chi2AuxIntegrand(t):\n",
    "        return g(t, chi2Integrand)\n",
    "    \n",
    "    return rectangle_rule_adaptive(chi2AuxIntegrand, 0., 1., 1, eps, 10)\n",
    "\n",
    "T = 150\n",
    "mu = 0\n",
    "eta = NI_density_aux_rectangle.eta = -1\n",
    "\n",
    "print(\"    Bose-Einstein chi2 =\", chiIntegral(T, mu, eps))"
   ]
  },
  {
   "cell_type": "markdown",
   "metadata": {},
   "source": [
    "## Step 3"
   ]
  },
  {
   "cell_type": "code",
   "execution_count": 7,
   "metadata": {},
   "outputs": [
    {
     "name": "stdout",
     "output_type": "stream",
     "text": [
      "Numerical derivative chi2 = 4.110952892266706\n",
      "Numerical derivative chi2 = 4.11115257249739\n",
      "            Analytic chi2 = 4.111189846068602\n"
     ]
    },
    {
     "name": "stderr",
     "output_type": "stream",
     "text": [
      "/var/folders/3v/f0ynmrq5313979_z9dzqpvr00000gp/T/ipykernel_7883/1464880764.py:6: RuntimeWarning: overflow encountered in scalar power\n",
      "  return d / (2. * np.pi**2) * k**2 * np.exp(np.sqrt((m/T)**2+k**2)-mu/T) / (np.exp(np.sqrt((m/T)**2+k**2)-mu/T) + eta)**2\n"
     ]
    }
   ],
   "source": [
    "# T = 150\n",
    "# m = NI_density_aux.m = 138\n",
    "muval = 137.9\n",
    "eps = NI_density_aux_rectangle.eps = 1e-5\n",
    "eta = NI_density_aux_rectangle.eta = -1\n",
    "dmu = 0.0001\n",
    "print(\"Numerical derivative chi2 =\", chinumder(T, muval, dmu, eps))\n",
    "dmu = 0.0001\n",
    "Nrect = 100\n",
    "print(\"Numerical derivative chi2 =\", chinumderNrect(T, muval, dmu, Nrect))\n",
    "mu = muval\n",
    "print(\"            Analytic chi2 =\", chiIntegral(T, muval, eps))"
   ]
  },
  {
   "cell_type": "code",
   "execution_count": 8,
   "metadata": {},
   "outputs": [
    {
     "name": "stdout",
     "output_type": "stream",
     "text": [
      "Failed to achieve the desired accuracy after 10 iterations\n",
      "Failed to achieve the desired accuracy after 10 iterations\n",
      "Failed to achieve the desired accuracy after 10 iterations\n",
      "Failed to achieve the desired accuracy after 10 iterations\n",
      "Failed to achieve the desired accuracy after 10 iterations\n",
      "Failed to achieve the desired accuracy after 10 iterations\n"
     ]
    },
    {
     "name": "stderr",
     "output_type": "stream",
     "text": [
      "/var/folders/3v/f0ynmrq5313979_z9dzqpvr00000gp/T/ipykernel_7883/1464880764.py:6: RuntimeWarning: overflow encountered in scalar power\n",
      "  return d / (2. * np.pi**2) * k**2 * np.exp(np.sqrt((m/T)**2+k**2)-mu/T) / (np.exp(np.sqrt((m/T)**2+k**2)-mu/T) + eta)**2\n",
      "/var/folders/3v/f0ynmrq5313979_z9dzqpvr00000gp/T/ipykernel_7883/1464880764.py:6: RuntimeWarning: overflow encountered in exp\n",
      "  return d / (2. * np.pi**2) * k**2 * np.exp(np.sqrt((m/T)**2+k**2)-mu/T) / (np.exp(np.sqrt((m/T)**2+k**2)-mu/T) + eta)**2\n",
      "/var/folders/3v/f0ynmrq5313979_z9dzqpvr00000gp/T/ipykernel_7883/1464880764.py:6: RuntimeWarning: invalid value encountered in scalar divide\n",
      "  return d / (2. * np.pi**2) * k**2 * np.exp(np.sqrt((m/T)**2+k**2)-mu/T) / (np.exp(np.sqrt((m/T)**2+k**2)-mu/T) + eta)**2\n"
     ]
    }
   ],
   "source": [
    "mus = np.arange(0., 138., 1.)\n",
    "mus = np.arange(137., 138., 0.01)\n",
    "# print(mus)\n",
    "chi2sNder = []\n",
    "chi2sNint = []\n",
    "\n",
    "dmu = 0.0001\n",
    "\n",
    "for mu in mus:\n",
    "    chi2sNder.append(chinumder(T, mu, dmu, eps))\n",
    "    # chi2sNder.append(chinumderNrect(T, mu, dmu, Nrect))\n",
    "    chi2sNint.append(chiIntegral(T, mu, eps))"
   ]
  },
  {
   "cell_type": "markdown",
   "metadata": {},
   "source": [
    "Numerical integration of $\\chi_2$ is not very stable due to singular behavior of $\\chi_2$ near $\\mu = m$.\n",
    "\n",
    "This can be mitigated by utilizing Gauss-Laguerre quadrature (try it!)"
   ]
  },
  {
   "cell_type": "markdown",
   "metadata": {},
   "source": [
    "Let us plot the results"
   ]
  },
  {
   "cell_type": "code",
   "execution_count": 9,
   "metadata": {},
   "outputs": [
    {
     "data": {
      "image/png": "[encoded data removed]",
      "text/plain": [
       "<Figure size 640x480 with 1 Axes>"
      ]
     },
     "metadata": {},
     "output_type": "display_data"
    }
   ],
   "source": [
    "# Plot the results\n",
    "import matplotlib.pyplot as plt\n",
    "\n",
    "params = {'legend.fontsize': 'large',\n",
    "         'axes.labelsize': 'x-large',\n",
    "         'axes.titlesize':'x-large',\n",
    "         'xtick.labelsize':'x-large',\n",
    "         'ytick.labelsize':'x-large',\n",
    "         'xtick.direction':'in',\n",
    "         'ytick.direction':'in',\n",
    "         }\n",
    "plt.rcParams.update(params)\n",
    "\n",
    "plt.plot(mus, chi2sNder, label = \"Numerical derivative\", linestyle = '-', color = 'blue')\n",
    "plt.plot(mus, chi2sNint, label = \"Numerical integration\", linestyle = '--', color = 'red')\n",
    "\n",
    "plt.xlabel(\"${\\mu}$ [MeV]\")\n",
    "plt.ylabel(\"${\\\\chi_2}$\")\n",
    "plt.xlim(mus[0],mus[-1])\n",
    "\n",
    "plt.legend()\n",
    "\n",
    "plt.show()"
   ]
  },
  {
   "cell_type": "markdown",
   "metadata": {},
   "source": [
    "## BONUS: Using automatic differentiation"
   ]
  },
  {
   "cell_type": "code",
   "execution_count": 10,
   "metadata": {},
   "outputs": [],
   "source": [
    "import mygrad as mg\n",
    "\n",
    "def dfdx_mygrad(func, x):\n",
    "    xx = mg.Tensor(x)\n",
    "    y = func(xx)\n",
    "    y.backward()\n",
    "    return xx.grad\n",
    "\n",
    "from mygrad import exp, sqrt\n",
    "\n",
    "def fThermalMG(x):\n",
    "    return d * x**2 / (2 * np.pi**2) / (exp(sqrt((m/T)**2 + x**2) - muAD/T) + eta)\n",
    "\n",
    "def chi2AD(inT, inMu, Nrect):\n",
    "    global T, mu\n",
    "    T = inT\n",
    "    mu = inMu\n",
    "\n",
    "    def fAD(x):\n",
    "        global muAD\n",
    "        muAD = x\n",
    "        def fInt(t):\n",
    "          return g(t, fThermalMG, 0)\n",
    "        return rectangle_rule(fInt, 0., 1., Nrect)\n",
    "    \n",
    "    return T * dfdx_mygrad(fAD, mu)"
   ]
  },
  {
   "cell_type": "code",
   "execution_count": 11,
   "metadata": {},
   "outputs": [
    {
     "name": "stderr",
     "output_type": "stream",
     "text": [
      "/var/folders/3v/f0ynmrq5313979_z9dzqpvr00000gp/T/ipykernel_7883/1464880764.py:6: RuntimeWarning: overflow encountered in scalar power\n",
      "  return d / (2. * np.pi**2) * k**2 * np.exp(np.sqrt((m/T)**2+k**2)-mu/T) / (np.exp(np.sqrt((m/T)**2+k**2)-mu/T) + eta)**2\n"
     ]
    },
    {
     "name": "stdout",
     "output_type": "stream",
     "text": [
      "Failed to achieve the desired accuracy after 10 iterations\n",
      "Failed to achieve the desired accuracy after 10 iterations\n",
      "Failed to achieve the desired accuracy after 10 iterations\n",
      "Failed to achieve the desired accuracy after 10 iterations\n",
      "Failed to achieve the desired accuracy after 10 iterations\n",
      "Failed to achieve the desired accuracy after 10 iterations\n"
     ]
    },
    {
     "name": "stderr",
     "output_type": "stream",
     "text": [
      "/var/folders/3v/f0ynmrq5313979_z9dzqpvr00000gp/T/ipykernel_7883/1464880764.py:6: RuntimeWarning: overflow encountered in exp\n",
      "  return d / (2. * np.pi**2) * k**2 * np.exp(np.sqrt((m/T)**2+k**2)-mu/T) / (np.exp(np.sqrt((m/T)**2+k**2)-mu/T) + eta)**2\n",
      "/var/folders/3v/f0ynmrq5313979_z9dzqpvr00000gp/T/ipykernel_7883/1464880764.py:6: RuntimeWarning: invalid value encountered in scalar divide\n",
      "  return d / (2. * np.pi**2) * k**2 * np.exp(np.sqrt((m/T)**2+k**2)-mu/T) / (np.exp(np.sqrt((m/T)**2+k**2)-mu/T) + eta)**2\n"
     ]
    },
    {
     "data": {
      "image/png": "[encoded data removed]",
      "text/plain": [
       "<Figure size 640x480 with 1 Axes>"
      ]
     },
     "metadata": {},
     "output_type": "display_data"
    }
   ],
   "source": [
    "mus = np.arange(0., 138., 1.)\n",
    "mus = np.arange(137., 138., 0.01)\n",
    "# print(mus)\n",
    "chi2sNder = []\n",
    "chi2sNint = []\n",
    "chi2sAD = []\n",
    "\n",
    "dmu = 0.0001\n",
    "Nrect = 100\n",
    "\n",
    "for mu in mus:\n",
    "    chi2sNder.append(chinumder(T, mu, dmu, eps))\n",
    "    # chi2sNder.append(chinumderNrect(T, mu, dmu, Nrect))\n",
    "    chi2sNint.append(chiIntegral(T, mu, eps))\n",
    "    chi2sAD.append(chi2AD(T, mu, Nrect))\n",
    "\n",
    "plt.plot(mus, chi2sNder, label = \"Numerical derivative\", linestyle = '-', color = 'blue')\n",
    "plt.plot(mus, chi2sNint, label = \"Numerical integration\", linestyle = '--', color = 'red')\n",
    "plt.plot(mus, chi2sAD, label = \"Automatic differentiation\", linestyle = '-.', color = 'green')\n",
    "\n",
    "plt.xlabel(\"${\\mu}$ [MeV]\")\n",
    "plt.ylabel(\"${\\\\chi_2}$\")\n",
    "plt.xlim(mus[0],mus[-1])\n",
    "\n",
    "plt.legend()\n",
    "\n",
    "plt.show()"
   ]
  }
 ],
 "metadata": {
  "kernelspec": {
   "display_name": "base",
   "language": "python",
   "name": "python3"
  },
  "language_info": {
   "codemirror_mode": {
    "name": "ipython",
    "version": 3
   },
   "file_extension": ".py",
   "mimetype": "text/x-python",
   "name": "python",
   "nbconvert_exporter": "python",
   "pygments_lexer": "ipython3",
   "version": "3.9.13"
  }
 },
 "nbformat": 4,
 "nbformat_minor": 2
}
