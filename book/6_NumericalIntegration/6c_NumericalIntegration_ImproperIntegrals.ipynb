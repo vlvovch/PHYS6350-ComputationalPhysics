{
 "cells": [
  {
   "cell_type": "markdown",
   "metadata": {},
   "source": [
    "```{admonition} Lecture Materials\n",
    ":class: tip\n",
    "[Download the slide deck for this lecture](https://github.com/vlvovch/PHYS6350-ComputationalPhysics/blob/spring2025/slides/Lecture8-02-11-25-NumericalIntegration.pdf)\n",
    "```"
   ]
  },
  {
   "cell_type": "code",
   "execution_count": 1,
   "metadata": {},
   "outputs": [],
   "source": [
    "# Preliminaries: import numpy, matplotlib and set default styles\n",
    "import numpy as np\n",
    "import matplotlib.pyplot as plt\n",
    "\n",
    "# Rectangle rule for numerical integration \n",
    "# of function f(x) over (a,b) using n subintervals\n",
    "def rectangle_rule(f, a, b, n):\n",
    "    h = (b - a) / n\n",
    "    ret = 0.0\n",
    "    xk = a + h / 2.\n",
    "    for k in range(n):\n",
    "        ret += f(xk) * h\n",
    "        xk += h\n",
    "    return ret\n",
    "\n",
    "\n",
    "\n",
    "# Default style parameters (feel free to modify as you see fit)\n",
    "params = {'legend.fontsize': 'large',\n",
    "         'axes.labelsize': 'x-large',\n",
    "         'axes.titlesize':'x-large',\n",
    "         'xtick.labelsize':'x-large',\n",
    "         'ytick.labelsize':'x-large',\n",
    "         'xtick.direction':'in',\n",
    "         'ytick.direction':'in',\n",
    "         }\n",
    "plt.rcParams.update(params)\n",
    "\n",
    "# Trapezoidal rule for numerical integration \n",
    "# of function f(x) over (a,b) using n subintervals\n",
    "def trapezoidal_rule(f, a, b, n):\n",
    "    h = (b - a) / n\n",
    "    ret = 0.0\n",
    "    xk = a\n",
    "    fk = f(xk)\n",
    "    for k in range(n):\n",
    "        xk += h\n",
    "        fk1 = f(xk)\n",
    "        ret += h * (fk + fk1) / 2.\n",
    "        fk = fk1\n",
    "    return ret\n",
    "\n",
    "# Simpson's rule for numerical integration \n",
    "# of function f(x) over (a,b) using n subintervals\n",
    "def simpson_rule(f, a, b, n):\n",
    "    if n % 2 == 1:\n",
    "        raise ValueError(\"Number of subintervals must be even for Simpson's rule.\")\n",
    "\n",
    "    h = (b - a) / n\n",
    "    ret = f(a) + f(b)\n",
    "    for k in range(1, n, 2):\n",
    "        xk = a + k * h \n",
    "        ret += 4 * f(xk)\n",
    "    for k in range(2, n-1, 2):\n",
    "        xk = a + k * h\n",
    "        ret += 2 * f(xk)\n",
    "    ret *= h / 3.0\n",
    "    return ret"
   ]
  },
  {
   "cell_type": "code",
   "execution_count": 3,
   "metadata": {
    "tags": [
     "remove-cell"
    ]
   },
   "outputs": [],
   "source": [
    "# Rectangle rule for numerical integration with adaptive step\n",
    "def rectangle_rule_adaptive(f, a, b, nst = 1, tol = 1.e-8, max_iterations = 16):\n",
    "    Iprev = 0.\n",
    "    n = nst\n",
    "    Iprev = rectangle_rule(f, a, b, n)\n",
    "    print(\"Iteration: {0:5}, I = {1:20.15f}\".format(1, Iprev))\n",
    "    for k in range(1, max_iterations):\n",
    "        n *= 2\n",
    "        Inew = rectangle_rule(f, a, b, n)\n",
    "        ek = (Inew - Iprev) / 3.\n",
    "        print(\"Iteration: {0:5}, I = {1:20.15f}, error estimate = {2:10.15f}\".format(k+1, Inew, ek))\n",
    "        if (abs(ek) < tol):\n",
    "            return Inew\n",
    "        Iprev = Inew\n",
    "        \n",
    "    print(\"Failed to achieve the desired accuracy after\", max_iterations,\"iterations\")\n",
    "    return Inew\n",
    "\n",
    "# Trapezoidal rule for numerical integration with adaptive step\n",
    "def trapezoidal_rule_adaptive(f, a, b, nst = 1, tol = 1.e-8, max_iterations = 16):\n",
    "    Iprev = 0.\n",
    "    n = nst\n",
    "    Iprev = trapezoidal_rule(f, a, b, n)\n",
    "    print(\"Iteration: {0:5}, I = {1:20.15f}\".format(1, Iprev))\n",
    "    for k in range(1, max_iterations):\n",
    "        n *= 2\n",
    "        Inew = trapezoidal_rule(f, a, b, n)\n",
    "        ek = (Inew - Iprev) / 3.\n",
    "        print(\"Iteration: {0:5}, I = {1:20.15f}, error estimate = {2:10.15f}\".format(k+1, Inew, ek))\n",
    "        if (abs(ek) < tol):\n",
    "            return Inew\n",
    "        Iprev = Inew\n",
    "        \n",
    "    print(\"Failed to achieve the desired accuracy after\", max_iterations,\"iterations\")\n",
    "    return Inew\n",
    "\n",
    "# Simpson's rule for numerical integration with adaptive step\n",
    "def simpson_rule_adaptive(f, a, b, nst = 2, tol = 1.e-8, max_iterations = 16):\n",
    "    Iprev = 0.\n",
    "    n = nst\n",
    "    Iprev = simpson_rule(f, a, b, n)\n",
    "    print(\"Iteration: {0:5}, I = {1:20.15f}\".format(1, Iprev))\n",
    "    for k in range(1, max_iterations):\n",
    "        n *= 2\n",
    "        Inew = simpson_rule(f, a, b, n)\n",
    "        ek = (Inew - Iprev) / 15.\n",
    "        \n",
    "        print(\"Iteration: {0:5}, I = {1:20.15f}, error estimate = {2:10.15f}\".format(k+1, Inew, ek))\n",
    "        if (abs(ek) < tol):\n",
    "            return Inew\n",
    "        Iprev = Inew\n",
    "        \n",
    "    print(\"Failed to achieve the desired accuracy after\", max_iterations,\"iterations\")\n",
    "    return Inew\n",
    "\n",
    "def romberg(\n",
    "    f, \n",
    "    a, \n",
    "    b, \n",
    "    accuracy=1e-8, \n",
    "    max_order=10\n",
    "):\n",
    "    R = np.zeros((max_order, max_order))\n",
    "    h = (b - a) / 2.\n",
    "    R[0, 0] = h * (f(a) + f(b)) # The initial trapezoidal rule   \n",
    "    for n in range(1, max_order):\n",
    "        trapezoid = 0.0\n",
    "        for j in range(2**(n-1)):\n",
    "            trapezoid += f(a + (2*j+1)*h)\n",
    "        R[n, 0] = 0.5 * R[n-1, 0] + h * trapezoid # The trapezoidal rule\n",
    "        l = 1\n",
    "        # The Romberg iterations\n",
    "        for m in range(1, n+1):\n",
    "            l *= 4\n",
    "            R[n, m] = (l * R[n, m-1] - R[n-1, m-1]) / (l-1)\n",
    "        print(\"Iteration: {0:5}, I = {1:20.15f}, error estimate = {2:10.15f}\".format(n, R[n, m], abs(R[n, m] - R[n-1, m-1])))\n",
    "        if abs(R[n, m] - R[n-1, m-1]) < accuracy:\n",
    "            return R[n, m]\n",
    "        h /= 2.\n",
    "    print(\"Romberg method did not converge to required accuracy\")\n",
    "    return R[-1, -1]\n"
   ]
  },
  {
   "cell_type": "markdown",
   "metadata": {},
   "source": [
    "# Improper integrals\n",
    "\n",
    "## Discontinuous integrands\n",
    "\n",
    "The integrand can be discontinuous. Consider a piecewise function defined as\n",
    "\n",
    "$$\n",
    "f(x) = 3 x^2 + x + 3 \\qquad {\\rm for} ~ x < 1,\n",
    "$$\n",
    "\n",
    "and\n",
    "\n",
    "$$\n",
    "f(x) = 2 x^3 - 3x^2 + x + 3. \\qquad {\\rm for} ~ x > 1.\n",
    "$$\n",
    "\n",
    "There is a discontinuity at $x = 1$ but there is nothing wrong with computing the integral over say an interval $[0,2]$ containing the discontinuity:\n",
    "$$\n",
    "I = \\int_0^2 f(x) = 9.5\n",
    "$$"
   ]
  },
  {
   "cell_type": "code",
   "execution_count": 4,
   "metadata": {
    "tags": [
     "remove-input"
    ]
   },
   "outputs": [
    {
     "data": {
      "image/png": "[encoded data removed]",
      "text/plain": [
       "<Figure size 640x480 with 1 Axes>"
      ]
     },
     "metadata": {},
     "output_type": "display_data"
    }
   ],
   "source": [
    "def fdist1(x):\n",
    "    return 3*x**2 + x + 3\n",
    "\n",
    "def fdist2(x):\n",
    "    return 2*x**3 - 3*x**2 + x + 3\n",
    "\n",
    "# Discontinuity point\n",
    "xdistcont = 1.\n",
    "\n",
    "def fdist(x):\n",
    "    x = np.asarray(x)  # Ensure x is a numpy array\n",
    "    result = np.where(x < xdistcont, fdist1(x), fdist2(x))\n",
    "    return result\n",
    "\n",
    "xplot = np.linspace(0,2,1000)\n",
    "yplot = fdist(xplot)\n",
    "plt.xlabel(\"x\")\n",
    "plt.ylabel(\"f(x)\")\n",
    "plt.xlim(0,2)\n",
    "plt.axhline(y = 0., color = 'black', linestyle = '--')\n",
    "\n",
    "# Fill the area under the curve\n",
    "plt.fill_between(xplot, yplot, where=(xplot < xdistcont), color='blue', alpha=0.5)\n",
    "plt.fill_between(xplot, yplot, where=(xplot >= xdistcont), color='blue', alpha=0.5)\n",
    "\n",
    "plt.plot(xplot,yplot, color = 'red')\n",
    "plt.show()"
   ]
  },
  {
   "cell_type": "markdown",
   "metadata": {},
   "source": [
    "However, applying a composite rule to a function with a discontinuity can be problematic:"
   ]
  },
  {
   "cell_type": "code",
   "execution_count": 5,
   "metadata": {
    "tags": [
     "remove-input"
    ]
   },
   "outputs": [
    {
     "ename": "NameError",
     "evalue": "name 'rectangle_rule_plot' is not defined",
     "output_type": "error",
     "traceback": [
      "\u001b[0;31m---------------------------------------------------------------------------\u001b[0m",
      "\u001b[0;31mNameError\u001b[0m                                 Traceback (most recent call last)",
      "Cell \u001b[0;32mIn[5], line 1\u001b[0m\n\u001b[0;32m----> 1\u001b[0m \u001b[43mrectangle_rule_plot\u001b[49m(fdist,\u001b[38;5;241m0\u001b[39m,\u001b[38;5;241m2\u001b[39m,\u001b[38;5;241m15\u001b[39m)\u001b[38;5;241m.\u001b[39mshow()\n\u001b[1;32m      2\u001b[0m \u001b[38;5;66;03m# Adaptive trapezoidal rule\u001b[39;00m\n\u001b[1;32m      3\u001b[0m \u001b[38;5;28mprint\u001b[39m(\u001b[38;5;124m\"\u001b[39m\u001b[38;5;124mTrapezoidal rule:\u001b[39m\u001b[38;5;124m\"\u001b[39m)\n",
      "\u001b[0;31mNameError\u001b[0m: name 'rectangle_rule_plot' is not defined"
     ]
    }
   ],
   "source": [
    "rectangle_rule_plot(fdist,0,2,15).show()\n",
    "# Adaptive trapezoidal rule\n",
    "print(\"Trapezoidal rule:\")\n",
    "res = trapezoidal_rule_adaptive(fdist,0,2,1,1.e-8)"
   ]
  },
  {
   "cell_type": "code",
   "execution_count": 6,
   "metadata": {},
   "outputs": [
    {
     "name": "stdout",
     "output_type": "stream",
     "text": [
      "Adaptive Simpson's rule:\n",
      "Iteration:     1, I =    8.000000000000000\n",
      "Iteration:     2, I =    8.833333333333332, error estimate = 0.055555555555555\n",
      "Iteration:     3, I =    9.166666666666666, error estimate = 0.022222222222222\n",
      "Iteration:     4, I =    9.333333333333332, error estimate = 0.011111111111111\n",
      "Iteration:     5, I =    9.416666666666666, error estimate = 0.005555555555556\n",
      "Iteration:     6, I =    9.458333333333332, error estimate = 0.002777777777778\n",
      "Iteration:     7, I =    9.479166666666666, error estimate = 0.001388888888889\n",
      "Iteration:     8, I =    9.489583333333332, error estimate = 0.000694444444444\n",
      "Iteration:     9, I =    9.494791666666666, error estimate = 0.000347222222222\n",
      "Iteration:    10, I =    9.497395833333332, error estimate = 0.000173611111111\n",
      "Iteration:    11, I =    9.498697916666666, error estimate = 0.000086805555556\n",
      "Iteration:    12, I =    9.499348958333332, error estimate = 0.000043402777778\n",
      "Iteration:    13, I =    9.499674479166666, error estimate = 0.000021701388889\n",
      "Iteration:    14, I =    9.499837239583332, error estimate = 0.000010850694444\n",
      "Iteration:    15, I =    9.499918619791664, error estimate = 0.000005425347222\n",
      "Iteration:    16, I =    9.499959309895530, error estimate = 0.000002712673591\n",
      "Failed to achieve the desired accuracy after 16 iterations\n"
     ]
    }
   ],
   "source": [
    "# Adaptive Simpson rule\n",
    "print(\"Adaptive Simpson's rule:\")\n",
    "res = simpson_rule_adaptive(fdist,0,2,2,1.e-8)"
   ]
  },
  {
   "cell_type": "code",
   "execution_count": 7,
   "metadata": {},
   "outputs": [
    {
     "name": "stdout",
     "output_type": "stream",
     "text": [
      "Romberg method:\n",
      "Iteration:     1, I =    8.000000000000000, error estimate = 4.000000000000000\n",
      "Iteration:     2, I =    8.888888888888889, error estimate = 0.888888888888889\n",
      "Iteration:     3, I =    9.193650793650793, error estimate = 0.304761904761904\n",
      "Iteration:     4, I =    9.347514610782586, error estimate = 0.153863817131793\n",
      "Iteration:     5, I =    9.423831487774139, error estimate = 0.076316876991553\n",
      "Iteration:     6, I =    9.461925044409840, error estimate = 0.038093556635701\n",
      "Iteration:     7, I =    9.480963684231190, error estimate = 0.019038639821350\n",
      "Iteration:     8, I =    9.490481987353379, error estimate = 0.009518303122189\n",
      "Iteration:     9, I =    9.495241011830926, error estimate = 0.004759024477547\n",
      "Iteration:    10, I =    9.497620508184726, error estimate = 0.002379496353800\n",
      "Iteration:    11, I =    9.498810254376020, error estimate = 0.001189746191294\n",
      "Iteration:    12, I =    9.499405127223469, error estimate = 0.000594872847449\n",
      "Iteration:    13, I =    9.499702563616168, error estimate = 0.000297436392700\n",
      "Iteration:    14, I =    9.499851281808635, error estimate = 0.000148718192467\n",
      "Iteration:    15, I =    9.499925640904392, error estimate = 0.000074359095757\n",
      "Iteration:    16, I =    9.499962820452204, error estimate = 0.000037179547812\n",
      "Iteration:    17, I =    9.499981410226075, error estimate = 0.000018589773871\n",
      "Romberg method did not converge to required accuracy\n"
     ]
    }
   ],
   "source": [
    "# Romberg method\n",
    "print(\"Romberg method:\")\n",
    "res = romberg(fdist,0,2,1e-8,18)"
   ]
  },
  {
   "cell_type": "markdown",
   "metadata": {},
   "source": [
    "### Splitting the integration\n",
    "\n",
    "The methods still work but the accuracy is significantly reduced.\n",
    "\n",
    "A better solution is to split the integration into two separate integrals\n",
    "\n",
    "$$\n",
    "I = I_1 + I_2,\n",
    "$$\n",
    "\n",
    "where\n",
    "\n",
    "$$\n",
    "I_1 = \\int_a^{x_{\\rm distcont}} f_1(x)\n",
    "$$\n",
    "\n",
    "and\n",
    "\n",
    "$$\n",
    "I_2 = \\int_{x_{\\rm distcont}}^b f_2(x)\n",
    "$$\n",
    "\n",
    "and compute the integrals separately.\n",
    "Since we want the error to be the same as for the original integration, we need to double the accuracy goal for each of the integrals."
   ]
  },
  {
   "cell_type": "code",
   "execution_count": 8,
   "metadata": {},
   "outputs": [
    {
     "name": "stdout",
     "output_type": "stream",
     "text": [
      "Rectangle rule:\n",
      "Iteration:     1, I =    4.250000000000000\n",
      "Iteration:     2, I =    4.437500000000000, error estimate = 0.062500000000000\n",
      "Iteration:     3, I =    4.484375000000000, error estimate = 0.015625000000000\n",
      "Iteration:     4, I =    4.496093750000000, error estimate = 0.003906250000000\n",
      "Iteration:     5, I =    4.499023437500000, error estimate = 0.000976562500000\n",
      "Iteration:     6, I =    4.499755859375000, error estimate = 0.000244140625000\n",
      "Iteration:     7, I =    4.499938964843750, error estimate = 0.000061035156250\n",
      "Iteration:     8, I =    4.499984741210938, error estimate = 0.000015258789062\n",
      "Iteration:     9, I =    4.499996185302734, error estimate = 0.000003814697266\n",
      "Iteration:    10, I =    4.499999046325684, error estimate = 0.000000953674316\n",
      "Iteration:    11, I =    4.499999761581421, error estimate = 0.000000238418579\n",
      "Iteration:    12, I =    4.499999940395355, error estimate = 0.000000059604645\n",
      "Iteration:    13, I =    4.499999985098839, error estimate = 0.000000014901161\n",
      "Iteration:    14, I =    4.499999996274710, error estimate = 0.000000003725290\n",
      "Iteration:     1, I =    4.500000000000000\n",
      "Iteration:     2, I =    4.875000000000000, error estimate = 0.125000000000000\n",
      "Iteration:     3, I =    4.968750000000000, error estimate = 0.031250000000000\n",
      "Iteration:     4, I =    4.992187500000000, error estimate = 0.007812500000000\n",
      "Iteration:     5, I =    4.998046875000000, error estimate = 0.001953125000000\n",
      "Iteration:     6, I =    4.999511718750000, error estimate = 0.000488281250000\n",
      "Iteration:     7, I =    4.999877929687500, error estimate = 0.000122070312500\n",
      "Iteration:     8, I =    4.999969482421875, error estimate = 0.000030517578125\n",
      "Iteration:     9, I =    4.999992370605469, error estimate = 0.000007629394531\n",
      "Iteration:    10, I =    4.999998092651367, error estimate = 0.000001907348633\n",
      "Iteration:    11, I =    4.999999523162842, error estimate = 0.000000476837158\n",
      "Iteration:    12, I =    4.999999880790710, error estimate = 0.000000119209290\n",
      "Iteration:    13, I =    4.999999970197678, error estimate = 0.000000029802322\n",
      "Iteration:    14, I =    4.999999992549419, error estimate = 0.000000007450581\n",
      "Iteration:    15, I =    4.999999998137355, error estimate = 0.000000001862645\n",
      "I1 = 4.49999999627471\n",
      "I2 = 4.999999998137355\n",
      "I = 9.499999994412065\n"
     ]
    }
   ],
   "source": [
    "# Adaptive rectangle rule\n",
    "print(\"Rectangle rule:\")\n",
    "eps = 1.e-8\n",
    "a = 0\n",
    "b = xdistcont\n",
    "I1 = rectangle_rule_adaptive(fdist1,a,b,1,0.5*eps)\n",
    "\n",
    "a = xdistcont\n",
    "b = 2\n",
    "I2 = rectangle_rule_adaptive(fdist2,a,b,1,0.5*eps)\n",
    "\n",
    "print(\"I1 =\",I1)\n",
    "print(\"I2 =\",I2)\n",
    "print(\"I =\",I1 + I2)"
   ]
  },
  {
   "cell_type": "code",
   "execution_count": 9,
   "metadata": {},
   "outputs": [
    {
     "name": "stdout",
     "output_type": "stream",
     "text": [
      "Trapezoidal rule:\n",
      "Iteration:     1, I =    5.000000000000000\n",
      "Iteration:     2, I =    4.625000000000000, error estimate = -0.125000000000000\n",
      "Iteration:     3, I =    4.531250000000000, error estimate = -0.031250000000000\n",
      "Iteration:     4, I =    4.507812500000000, error estimate = -0.007812500000000\n",
      "Iteration:     5, I =    4.501953125000000, error estimate = -0.001953125000000\n",
      "Iteration:     6, I =    4.500488281250000, error estimate = -0.000488281250000\n",
      "Iteration:     7, I =    4.500122070312500, error estimate = -0.000122070312500\n",
      "Iteration:     8, I =    4.500030517578125, error estimate = -0.000030517578125\n",
      "Iteration:     9, I =    4.500007629394531, error estimate = -0.000007629394531\n",
      "Iteration:    10, I =    4.500001907348633, error estimate = -0.000001907348633\n",
      "Iteration:    11, I =    4.500000476837158, error estimate = -0.000000476837158\n",
      "Iteration:    12, I =    4.500000119209290, error estimate = -0.000000119209290\n",
      "Iteration:    13, I =    4.500000029802322, error estimate = -0.000000029802322\n",
      "Iteration:    14, I =    4.500000007450581, error estimate = -0.000000007450581\n",
      "Iteration:    15, I =    4.500000001862645, error estimate = -0.000000001862645\n",
      "Iteration:     1, I =    6.000000000000000\n",
      "Iteration:     2, I =    5.250000000000000, error estimate = -0.250000000000000\n",
      "Iteration:     3, I =    5.062500000000000, error estimate = -0.062500000000000\n",
      "Iteration:     4, I =    5.015625000000000, error estimate = -0.015625000000000\n",
      "Iteration:     5, I =    5.003906250000000, error estimate = -0.003906250000000\n",
      "Iteration:     6, I =    5.000976562500000, error estimate = -0.000976562500000\n",
      "Iteration:     7, I =    5.000244140625000, error estimate = -0.000244140625000\n",
      "Iteration:     8, I =    5.000061035156250, error estimate = -0.000061035156250\n",
      "Iteration:     9, I =    5.000015258789062, error estimate = -0.000015258789062\n",
      "Iteration:    10, I =    5.000003814697266, error estimate = -0.000003814697266\n",
      "Iteration:    11, I =    5.000000953674316, error estimate = -0.000000953674316\n",
      "Iteration:    12, I =    5.000000238418579, error estimate = -0.000000238418579\n",
      "Iteration:    13, I =    5.000000059604645, error estimate = -0.000000059604645\n",
      "Iteration:    14, I =    5.000000014901161, error estimate = -0.000000014901161\n",
      "Iteration:    15, I =    5.000000003725290, error estimate = -0.000000003725290\n",
      "I1 = 4.500000001862645\n",
      "I2 = 5.00000000372529\n",
      "I = 9.500000005587935\n"
     ]
    }
   ],
   "source": [
    "# Adaptive trapezoidal rule\n",
    "print(\"Trapezoidal rule:\")\n",
    "eps = 1.e-8\n",
    "a = 0\n",
    "b = xdistcont\n",
    "I1 = trapezoidal_rule_adaptive(fdist1,a,b,1,0.5*eps)\n",
    "\n",
    "a = xdistcont\n",
    "b = 2\n",
    "I2 = trapezoidal_rule_adaptive(fdist2,a,b,1,0.5*eps)\n",
    "\n",
    "print(\"I1 =\",I1)\n",
    "print(\"I2 =\",I2)\n",
    "print(\"I =\",I1 + I2)"
   ]
  },
  {
   "cell_type": "code",
   "execution_count": 10,
   "metadata": {
    "scrolled": true
   },
   "outputs": [
    {
     "name": "stdout",
     "output_type": "stream",
     "text": [
      "Simpson's rule:\n",
      "Iteration:     1, I =    4.500000000000000\n",
      "Iteration:     2, I =    4.500000000000000, error estimate = 0.000000000000000\n",
      "Iteration:     1, I =    5.000000000000000\n",
      "Iteration:     2, I =    5.000000000000000, error estimate = 0.000000000000000\n",
      "I1 = 4.5\n",
      "I2 = 5.0\n",
      "I = 9.5\n"
     ]
    }
   ],
   "source": [
    "# Adaptive Simpson's rule\n",
    "print(\"Simpson's rule:\")\n",
    "eps = 1.e-8\n",
    "a = 0\n",
    "b = xdistcont\n",
    "I1 = simpson_rule_adaptive(fdist1,a,b,2,0.5*eps)\n",
    "\n",
    "a = xdistcont\n",
    "b = 2\n",
    "I2 = simpson_rule_adaptive(fdist2,a,b,2,0.5*eps)\n",
    "\n",
    "print(\"I1 =\",I1)\n",
    "print(\"I2 =\",I2)\n",
    "print(\"I =\",I1 + I2)"
   ]
  },
  {
   "cell_type": "code",
   "execution_count": 11,
   "metadata": {},
   "outputs": [
    {
     "name": "stdout",
     "output_type": "stream",
     "text": [
      "Romberg method:\n",
      "Iteration:     1, I =    4.500000000000000, error estimate = 0.500000000000000\n",
      "Iteration:     2, I =    4.500000000000000, error estimate = 0.000000000000000\n",
      "Iteration:     1, I =    5.000000000000000, error estimate = 1.000000000000000\n",
      "Iteration:     2, I =    5.000000000000000, error estimate = 0.000000000000000\n",
      "I1 = 4.5\n",
      "I2 = 5.0\n",
      "I = 9.5\n"
     ]
    }
   ],
   "source": [
    "# Romberg method\n",
    "print(\"Romberg method:\")\n",
    "eps = 1.e-8\n",
    "a = 0\n",
    "b = xdistcont\n",
    "I1 = romberg(fdist1,a,b,0.5*eps)\n",
    "\n",
    "a = xdistcont\n",
    "b = 2\n",
    "I2 = romberg(fdist2,a,b,0.5*eps)\n",
    "\n",
    "print(\"I1 =\",I1)\n",
    "print(\"I2 =\",I2)\n",
    "print(\"I =\",I1 + I2)"
   ]
  },
  {
   "cell_type": "markdown",
   "metadata": {},
   "source": [
    "<!-- ## Improper integrals\n",
    "\n",
    "Some integrals may contain peculiarities like:\n",
    "- Integrable singularity (typically at endpoints)\n",
    "- (Semi-)infinite integration range -->\n",
    "\n",
    "## Integrable singularities\n",
    "Consider the following integral:\n",
    "\n",
    "$$\n",
    "\\int_0^1 \\frac{1}{\\sqrt{x}} dx = \\left. 2\\sqrt{x} \\right|_0^1 = 2\n",
    "$$\n",
    "\n",
    "The integrand diverges at $x = 0$, however, this singularity is integrable.\n",
    "\n",
    "The standard trapezoidal (and any method that makes use of function evaluation at integration endpoints) will fail, however, due to division by zero."
   ]
  },
  {
   "cell_type": "code",
   "execution_count": 12,
   "metadata": {},
   "outputs": [
    {
     "name": "stderr",
     "output_type": "stream",
     "text": [
      "/var/folders/3v/f0ynmrq5313979_z9dzqpvr00000gp/T/ipykernel_24551/847063500.py:2: RuntimeWarning: divide by zero encountered in scalar divide\n",
      "  return 1./np.sqrt(x)\n"
     ]
    },
    {
     "data": {
      "text/plain": [
       "np.float64(inf)"
      ]
     },
     "execution_count": 12,
     "metadata": {},
     "output_type": "execute_result"
    }
   ],
   "source": [
    "def fsing1(x):\n",
    "    return 1./np.sqrt(x)\n",
    "\n",
    "trapezoidal_rule(fsing1,0.,1.,10)"
   ]
  },
  {
   "cell_type": "markdown",
   "metadata": {},
   "source": [
    "The solution here is to use a method that does not evaluate the function at the endpoints.\n",
    "For instance, the rectangle rule seems to work, albeit its performance is reduced."
   ]
  },
  {
   "cell_type": "code",
   "execution_count": 13,
   "metadata": {},
   "outputs": [
    {
     "name": "stdout",
     "output_type": "stream",
     "text": [
      "Using rectangle rule to evaluate \\int_0^1 1/\\sqrt{x} dx\n",
      "Iteration:     1, I =    1.414213562373095\n",
      "Iteration:     2, I =    1.577350269189626, error estimate = 0.054378902272177\n",
      "Iteration:     3, I =    1.698844079579673, error estimate = 0.040497936796682\n",
      "Iteration:     4, I =    1.786461001734842, error estimate = 0.029205640718390\n",
      "Iteration:     5, I =    1.848856684639738, error estimate = 0.020798560968299\n",
      "Iteration:     6, I =    1.893088359706383, error estimate = 0.014743891688882\n",
      "Iteration:     7, I =    1.924392755699513, error estimate = 0.010434798664376\n",
      "Iteration:     8, I =    1.946535279970520, error estimate = 0.007380841423669\n",
      "Iteration:     9, I =    1.962194152677056, error estimate = 0.005219624235512\n",
      "Iteration:    10, I =    1.973267083679453, error estimate = 0.003690977000799\n",
      "Iteration:    11, I =    1.981096937261288, error estimate = 0.002609951193945\n",
      "Iteration:    12, I =    1.986633507070365, error estimate = 0.001845523269692\n",
      "Iteration:    13, I =    1.990548459938304, error estimate = 0.001304984289313\n",
      "Iteration:    14, I =    1.993316751362098, error estimate = 0.000922763807931\n"
     ]
    }
   ],
   "source": [
    "print('Using rectangle rule to evaluate \\int_0^1 1/\\sqrt{x} dx')\n",
    "nst = 1\n",
    "res = rectangle_rule_adaptive(fsing1,0.,1.,1,1.e-3,20)"
   ]
  },
  {
   "cell_type": "markdown",
   "metadata": {},
   "source": [
    "## Semi-infinite interval\n",
    "\n",
    "Consider a semi-infinite range integration problem\n",
    "\n",
    "$$\n",
    "\\int_a^\\infty f(x) dx.\n",
    "$$\n",
    "\n",
    "As long as $f(x)$ decays sufficiently fast, the integral exists.\n",
    "However, the semi-infinite integration range poses a challenge for applying numerical integration methods, as they are designed to work with finite integration ranges.\n",
    "\n",
    "One possible solution is to use a **variable transformation** that maps the semi-infinite range into a finite range.\n",
    "For instance, if we use the transformation\n",
    "\n",
    "$$\n",
    "x = a + \\frac{t}{1-t},\n",
    "$$\n",
    "\n",
    "then\n",
    "$dx = \\frac{dt}{1-t^2}$ \n",
    "and the inegral transforms into\n",
    "\n",
    "$$\n",
    "\\int_a^\\infty f(x) dx = \\int_0^1 f\\left(a + \\frac{t}{1-t}\\right) \\frac{dt}{1-t^2} = \\int_0^1 g(t) dt,\n",
    "$$\n",
    "\n",
    "i.e. the integration of a function \n",
    "\n",
    "$$\n",
    "g(t) = f\\left(a + \\frac{t}{1-t}\\right) \\frac{1}{1-t^2}\n",
    "$$\n",
    "\n",
    "over a finite range $(0,1)$.\n",
    "One can see that $g(t)$ has a singularity at $t=1$, but the singularity is integrable as long as the original integral is integrable.\n",
    "\n",
    "### Example\n",
    "\n",
    "Let us the method on the example\n",
    "\n",
    "$$\n",
    "\\int_0^\\infty e^{-x} dx = 1\n",
    "$$"
   ]
  },
  {
   "cell_type": "code",
   "execution_count": 14,
   "metadata": {},
   "outputs": [],
   "source": [
    "def fexp(x):\n",
    "    return np.exp(-x)\n",
    "\n",
    "def g(t, f, a = 0.):\n",
    "    return f(a + t / (1. - t)) / (1. - t)**2"
   ]
  },
  {
   "cell_type": "code",
   "execution_count": 15,
   "metadata": {},
   "outputs": [
    {
     "name": "stdout",
     "output_type": "stream",
     "text": [
      "Using change of variable and the rectangle rule to evaluate \\int_0^\\infty \\exp(-x) dx\n",
      "Iteration:     1, I =    1.471517764685769\n",
      "Iteration:     2, I =    1.035213267452946, error estimate = -0.145434832410941\n",
      "Iteration:     3, I =    0.984670579385046, error estimate = -0.016847562689300\n",
      "Iteration:     4, I =    1.001784913275257, error estimate = 0.005704777963404\n",
      "Iteration:     5, I =    1.000155714391028, error estimate = -0.000543066294743\n",
      "Iteration:     6, I =    1.000040642390661, error estimate = -0.000038357333456\n",
      "Iteration:     7, I =    1.000010172618432, error estimate = -0.000010156590743\n",
      "Iteration:     8, I =    1.000002543136036, error estimate = -0.000002543160799\n",
      "Iteration:     9, I =    1.000000635783161, error estimate = -0.000000635784292\n"
     ]
    }
   ],
   "source": [
    "a = 0.\n",
    "def frect(x):\n",
    "    return g(x, fexp, a)\n",
    "\n",
    "print('Using change of variable and the rectangle rule to evaluate \\int_0^\\infty \\exp(-x) dx')\n",
    "res = rectangle_rule_adaptive(frect,0.,1.,1,1.e-6,20)"
   ]
  },
  {
   "cell_type": "code",
   "execution_count": 16,
   "metadata": {},
   "outputs": [
    {
     "name": "stdout",
     "output_type": "stream",
     "text": [
      "Using change of variable and the rectangle rule to evaluate \\int_ 3.0 ^\\infty \\exp(-x) dx\n",
      "Iteration:     1, I =    0.073262555554937\n",
      "Iteration:     2, I =    0.051540233722000, error estimate = -0.007240773944312\n",
      "Iteration:     3, I =    0.049023861455667, error estimate = -0.000838790755444\n",
      "Iteration:     4, I =    0.049875933967130, error estimate = 0.000284024170487\n",
      "Iteration:     5, I =    0.049794820930896, error estimate = -0.000027037678745\n",
      "Iteration:     6, I =    0.049789091833346, error estimate = -0.000001909699183\n",
      "Iteration:     7, I =    0.049787574832713, error estimate = -0.000000505666878\n",
      "Expected value: exp(-a) = 0.049787068367863944\n"
     ]
    }
   ],
   "source": [
    "# Try a > 0\n",
    "a = 3.\n",
    "def frect(x):\n",
    "    return g(x, fexp, a)\n",
    "\n",
    "print('Using change of variable and the rectangle rule to evaluate \\int_',a,'^\\infty \\exp(-x) dx')\n",
    "# nst = 1\n",
    "# for n in range(1,6):\n",
    "#     nst *= 10\n",
    "#     print(\"N =\",nst,\", I = \",rectangle_rule(frect,0.,1.,nst))\n",
    "rectangle_rule_adaptive(frect,0.,1.,1,1.e-6,20)\n",
    "\n",
    "print('Expected value: exp(-a) =', np.exp(-a))"
   ]
  },
  {
   "cell_type": "markdown",
   "metadata": {},
   "source": [
    "## Infinite interval\n",
    "\n",
    "For an integral over an infinite interval\n",
    "\n",
    "$$\n",
    "\\int_{-\\infty}^\\infty f(x) dx\n",
    "$$\n",
    "\n",
    "one can also apply a change of variables to transform it into a finite interval.\n",
    "One option is\n",
    "\n",
    "$$\n",
    "x = \\frac{t}{1-t^2}\n",
    "$$\n",
    "\n",
    "which gives\n",
    "$dx = \\frac{1+t^2}{(1-t^2)^2} dt$ \n",
    "and\n",
    "\n",
    "$$\n",
    "\\int_{-\\infty}^\\infty f(x) dx = \n",
    "\\int_{-1}^1 f\\left(\\frac{t}{1-t^2}\\right) \\frac{1+t^2}{(1-t^2)^2} dt = \\int_{-1}^1 g(t) dt,\n",
    "$$\n",
    "\n",
    "transforming the original integrand $f(x)$ into \n",
    "\n",
    "$$\n",
    "g(t) = f\\left(\\frac{t}{1-t^2}\\right) \\frac{1+t^2}{(1-t^2)^2}\n",
    "$$\n",
    "\n",
    "which is integrated over the interval $[-1,1]$.\n",
    "The new integrand $g(t)$ has singularities at $t=\\pm 1$, but they are integrable as long as $f(x)$ is integrable over the infinite interval $(-\\infty,\\infty)$.\n",
    "\n",
    "Let us try it with\n",
    "$$\n",
    "\\int_{-\\infty}^\\infty e^{-x^2} dx = \\sqrt{\\pi} = 1.772454\\ldots\n",
    "$$"
   ]
  },
  {
   "cell_type": "code",
   "execution_count": 17,
   "metadata": {},
   "outputs": [],
   "source": [
    "def fexp2(x):\n",
    "    return np.exp(-x**2)\n",
    "\n",
    "def g2(t, f):\n",
    "    return f(t / (1. - t**2)) * (1.+t**2) / (1. - t**2)**2\n"
   ]
  },
  {
   "cell_type": "code",
   "execution_count": 18,
   "metadata": {},
   "outputs": [
    {
     "name": "stdout",
     "output_type": "stream",
     "text": [
      "Using change of variable and the rectangle rule to evaluate \\int_{-\\infty}^\\infty \\exp(-x^2) dx\n",
      "Iteration:     1, I =    2.000000000000000\n",
      "Iteration:     2, I =    2.849690615244243, error estimate = 0.283230205081414\n",
      "Iteration:     3, I =    1.557994553948652, error estimate = -0.430565353765197\n",
      "Iteration:     4, I =    1.808005109208286, error estimate = 0.083336851753211\n",
      "Iteration:     5, I =    1.770118560572371, error estimate = -0.012628849545305\n",
      "Iteration:     6, I =    1.772492101507391, error estimate = 0.000791180311673\n",
      "Iteration:     7, I =    1.772453880915058, error estimate = -0.000012740197444\n",
      "Iteration:     8, I =    1.772453850905505, error estimate = -0.000000010003185\n",
      "Expected value: \\sqrt{\\pi} = 1.7724538509055159\n"
     ]
    }
   ],
   "source": [
    "def frect2(x):\n",
    "    return g2(x, fexp2)\n",
    "\n",
    "print('Using change of variable and the rectangle rule to evaluate \\int_{-\\infty}^\\infty \\exp(-x^2) dx')\n",
    "rectangle_rule_adaptive(frect2,-1.,1.,1,1.e-6,20)\n",
    "\n",
    "print('Expected value: \\sqrt{\\pi} =', np.sqrt(np.pi))"
   ]
  },
  {
   "cell_type": "markdown",
   "metadata": {},
   "source": [
    "## Example: Relativistic quantum distribution\n",
    "\n",
    "In a relativistic ideal gas, the density of particles can be calculated as an integral over the momentum states\n",
    "\n",
    "$$\n",
    "n = \\frac{d}{2\\pi^2} \\int_0^\\infty dk \\, k^2 \\, \\left[\\exp\\left\\{\\frac{\\sqrt{m^2+k^2}-\\mu}{T} \\right\\} + \\eta \\right ]^{-1}.\n",
    "$$\n",
    "\n",
    "Here $d$ is the spin degeneracy, $m$ is the mass of the particle, and $T$ and $\\mu$ are the temperature and chemical potential. $\\eta$ is the statitics, such that $\\eta = +1$ corresponds to Fermi-Dirac distributio, $\\eta = -1$ to Bose-Einstein distribution, and $\\eta = 0$ to Maxwell-Boltzmann approximation.\n",
    "\n",
    "In general, the integral has to be evaluated numerically. First, it is useful to make the integration variable dimensionless through a change of variable $\\tilde k = k / T$. Then\n",
    "\n",
    "$$\n",
    "n = \\frac{d T^3}{2\\pi^2} \\int_0^\\infty d \\tilde k \\, \\tilde k^2 \\, \\left[\\exp\\left\\{\\sqrt{\\tilde m^2+\\tilde k^2}-\\tilde \\mu \\right\\} + \\eta \\right ]^{-1},\n",
    "$$\n",
    "\n",
    "where $\\tilde m = m/T$ and $\\tilde \\mu = \\mu / T$.\n",
    "This expression can be cast in a form\n",
    "\n",
    "$$\n",
    "\\tilde n = n/T^3 = \\int_0^\\infty d x f(x)\n",
    "$$\n",
    "\n",
    "with\n",
    "\n",
    "$$\n",
    "f(x) = \\frac{d}{2\\pi^2} x^2 \\, \\left[\\exp\\left\\{\\sqrt{\\tilde m^2+x^2}-\\tilde \\mu \\right\\} + \\eta \\right ]^{-1}~.\n",
    "$$"
   ]
  },
  {
   "cell_type": "markdown",
   "metadata": {},
   "source": [
    "**Steps**\n",
    "\n",
    "1. Make a change of variables $x \\to t/(1-t)$ to convert the semi-infinite integration range $x \\in (0,\\infty)$ into a finite range $t \\in (0,1)$."
   ]
  },
  {
   "cell_type": "code",
   "execution_count": 19,
   "metadata": {},
   "outputs": [],
   "source": [
    "def fThermal(x):\n",
    "    return d * x**2 / (2 * np.pi**2) / (np.exp(np.sqrt((m/T)**2 + x**2) - mu/T) + eta)\n",
    "\n",
    "def g(t, f, a = 0.):\n",
    "    return f(a + t / (1. - t)) / (1. - t)**2"
   ]
  },
  {
   "cell_type": "markdown",
   "metadata": {},
   "source": [
    "2. Calculate the scaled density $\\tilde n = n/T^3$ using numerical integration for the following values of parameters, corresponding to an ideal gas of $\\pi$-mesons:\n",
    "\n",
    "$$\n",
    "m = 138~\\textrm{MeV}, \\qquad d = 1, \\qquad T = 150~\\textrm{MeV}, \\qquad \\mu = 0.\n",
    "$$\n",
    "\n",
    "Ignore quantum statisics for the time being by setting $\\eta = 0$.\n",
    "\n",
    "We will use the rectangle rule to avoid singularities at endpoints."
   ]
  },
  {
   "cell_type": "code",
   "execution_count": 20,
   "metadata": {},
   "outputs": [
    {
     "name": "stdout",
     "output_type": "stream",
     "text": [
      "Iteration:     1, I =    0.052071598602252\n",
      "Iteration:     2, I =    0.160089665256309, error estimate = 0.036006022218019\n",
      "Iteration:     3, I =    0.075406103813409, error estimate = -0.028227853814300\n",
      "Iteration:     4, I =    0.085410602578111, error estimate = 0.003334832921567\n",
      "Iteration:     5, I =    0.084623507486682, error estimate = -0.000262365030476\n",
      "Iteration:     6, I =    0.084721979027677, error estimate = 0.000032823846998\n",
      "Iteration:     7, I =    0.084722493628870, error estimate = 0.000000171533731\n",
      "Using adaptive rectangle rule: n/T^3 = 0.08472249362886973\n"
     ]
    }
   ],
   "source": [
    "T = 150 # MeV\n",
    "mu = 0  \n",
    "m = 138 # MeV\n",
    "d = 1\n",
    "eta = 0\n",
    "\n",
    "def nIntegral(eps = 1e-6):\n",
    "    def fInt(t):\n",
    "        return g(t, fThermal, 0)\n",
    "    return rectangle_rule_adaptive(fInt, 0., 1., 1, eps, 20)\n",
    "\n",
    "def nT3num(inT, inMu, eps):\n",
    "    global T, mu\n",
    "    T = inT\n",
    "    mu = inMu\n",
    "    return nIntegral(eps)\n",
    "\n",
    "print(\"Using adaptive rectangle rule:\", \"n/T^3 =\",nT3num(T,mu,1e-6))"
   ]
  },
  {
   "cell_type": "markdown",
   "metadata": {},
   "source": [
    "3. Compare the results to the analytic expression\n",
    "\n",
    "$$\n",
    "\\tilde n = n/T^3 = \\frac{d m^2}{2\\pi^2 T^2} K_2(m/T) e^{\\mu/T}.\n",
    "$$\n",
    "\n",
    "Here $K_2$ is the modified Bessel function of the second kind, which is accessbile through scipy package"
   ]
  },
  {
   "cell_type": "code",
   "execution_count": 21,
   "metadata": {},
   "outputs": [
    {
     "name": "stdout",
     "output_type": "stream",
     "text": [
      "Analytic result: n/T^3 = 0.08472249379368636\n"
     ]
    }
   ],
   "source": [
    "from scipy.special import kn\n",
    "\n",
    "# Analytic expression for the density in the Maxwell-Boltzmann limit\n",
    "def nT3analyt(T, mu, m, d = 1):\n",
    "    return d * m**2 / (2 * np.pi**2 * T**2) * kn(2,m/T) * np.exp(mu/T)\n",
    "\n",
    "print(\"Analytic result:\", \"n/T^3 =\", nT3analyt(T,mu,m))"
   ]
  },
  {
   "cell_type": "markdown",
   "metadata": {},
   "source": [
    "4. Incorporate the effect of Bose statistics by setting $\\eta = -1$ and compare the results to the $\\eta = 0$ case"
   ]
  },
  {
   "cell_type": "code",
   "execution_count": 22,
   "metadata": {},
   "outputs": [
    {
     "name": "stdout",
     "output_type": "stream",
     "text": [
      "Iteration:     1, I =    0.052071598602252\n",
      "Iteration:     2, I =    0.160089665256309, error estimate = 0.036006022218019\n",
      "Iteration:     3, I =    0.075406103813409, error estimate = -0.028227853814300\n",
      "Iteration:     4, I =    0.085410602578111, error estimate = 0.003334832921567\n",
      "Iteration:     5, I =    0.084623507486682, error estimate = -0.000262365030476\n",
      "Iteration:     6, I =    0.084721979027677, error estimate = 0.000032823846998\n",
      "Iteration:     7, I =    0.084722493628870, error estimate = 0.000000171533731\n",
      "Maxwell-Boltzmann: n/T^3 = 0.08472249362886973\n",
      "Iteration:     1, I =    0.070079419142193\n",
      "Iteration:     2, I =    0.168395499279461, error estimate = 0.032772026712423\n",
      "Iteration:     3, I =    0.083996336251779, error estimate = -0.028133054342561\n",
      "Iteration:     4, I =    0.093987772319729, error estimate = 0.003330478689317\n",
      "Iteration:     5, I =    0.093223117309176, error estimate = -0.000254885003518\n",
      "Iteration:     6, I =    0.093321713544158, error estimate = 0.000032865411661\n",
      "Iteration:     7, I =    0.093322228547175, error estimate = 0.000000171667672\n",
      "    Bose-Einstein: n/T^3 = 0.09332222854717481\n"
     ]
    }
   ],
   "source": [
    "prec = 1.e-6\n",
    "eta = 0\n",
    "print(\"Maxwell-Boltzmann:\", \"n/T^3 =\",nT3num(T,mu,prec))\n",
    "\n",
    "eta = -1\n",
    "print(\"    Bose-Einstein:\", \"n/T^3 =\",nT3num(T,mu,prec))"
   ]
  }
 ],
 "metadata": {
  "kernelspec": {
   "display_name": "CompPhys",
   "language": "python",
   "name": "python3"
  },
  "language_info": {
   "codemirror_mode": {
    "name": "ipython",
    "version": 3
   },
   "file_extension": ".py",
   "mimetype": "text/x-python",
   "name": "python",
   "nbconvert_exporter": "python",
   "pygments_lexer": "ipython3",
   "version": "3.10.13"
  }
 },
 "nbformat": 4,
 "nbformat_minor": 4
}
