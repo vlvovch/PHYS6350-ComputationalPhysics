{
 "cells": [
  {
   "cell_type": "markdown",
   "metadata": {},
   "source": [
    "```{admonition} Lecture Materials\n",
    ":class: tip\n",
    "[Download the slide deck for this lecture](https://github.com/vlvovch/PHYS6350-ComputationalPhysics/blob/spring2025/slides/Lecture8-02-11-25-NumericalIntegration.pdf)\n",
    "```"
   ]
  },
  {
   "cell_type": "code",
   "execution_count": 1,
   "metadata": {
    "tags": [
     "remove-cell"
    ]
   },
   "outputs": [],
   "source": [
    "# Preliminaries: import numpy, matplotlib and set default styles\n",
    "import numpy as np\n",
    "import matplotlib.pyplot as plt\n",
    "\n",
    "# Rectangle rule for numerical integration \n",
    "# of function f(x) over (a,b) using n subintervals\n",
    "def rectangle_rule(f, a, b, n):\n",
    "    h = (b - a) / n\n",
    "    ret = 0.0\n",
    "    xk = a + h / 2.\n",
    "    for k in range(n):\n",
    "        ret += f(xk) * h\n",
    "        xk += h\n",
    "    return ret\n",
    "\n",
    "\n",
    "\n",
    "# Default style parameters (feel free to modify as you see fit)\n",
    "params = {'legend.fontsize': 'large',\n",
    "         'axes.labelsize': 'x-large',\n",
    "         'axes.titlesize':'x-large',\n",
    "         'xtick.labelsize':'x-large',\n",
    "         'ytick.labelsize':'x-large',\n",
    "         'xtick.direction':'in',\n",
    "         'ytick.direction':'in',\n",
    "         }\n",
    "plt.rcParams.update(params)\n",
    "\n",
    "# Trapezoidal rule for numerical integration \n",
    "# of function f(x) over (a,b) using n subintervals\n",
    "def trapezoidal_rule(f, a, b, n):\n",
    "    h = (b - a) / n\n",
    "    ret = 0.0\n",
    "    xk = a\n",
    "    fk = f(xk)\n",
    "    for k in range(n):\n",
    "        xk += h\n",
    "        fk1 = f(xk)\n",
    "        ret += h * (fk + fk1) / 2.\n",
    "        fk = fk1\n",
    "    return ret\n",
    "\n",
    "# Simpson's rule for numerical integration \n",
    "# of function f(x) over (a,b) using n subintervals\n",
    "def simpson_rule(f, a, b, n):\n",
    "    if n % 2 == 1:\n",
    "        raise ValueError(\"Number of subintervals must be even for Simpson's rule.\")\n",
    "\n",
    "    h = (b - a) / n\n",
    "    ret = f(a) + f(b)\n",
    "    for k in range(1, n, 2):\n",
    "        xk = a + k * h \n",
    "        ret += 4 * f(xk)\n",
    "    for k in range(2, n-1, 2):\n",
    "        xk = a + k * h\n",
    "        ret += 2 * f(xk)\n",
    "    ret *= h / 3.0\n",
    "    return ret"
   ]
  },
  {
   "cell_type": "markdown",
   "metadata": {},
   "source": [
    "## Adaptive methods\n",
    "\n",
    "### Error control\n",
    "\n",
    "It is important to control the error of numerical integration since we are often interested in the precision of the result.\n",
    "\n",
    "Let us consider the error estiamte of the rectangle/trapezoidal method.\n",
    "For rectangle/trapezoidal method we know that the error scales with $h$ as $\\varepsilon = c h^2$.\n",
    "Let us double the number of steps. We have $h_2 = h_1 / 2$.\n",
    "Then, $\\varepsilon_2 = I - I_2 = c h_2^2$, and $\\varepsilon_1 = I - I_1 = 4 c h_2^2$.\n",
    "Therefore, $\\varepsilon_2 \\simeq (I_2 - I_1) / 3$.\n",
    "\n",
    "More generally, the error estimate of $k$th iteration is\n",
    "\n",
    "$$\n",
    "\\varepsilon_k \\simeq (I_k - I_{k-1}) / 3.\n",
    "$$\n",
    "\n",
    "We can thus continue to double the number of subintervals until the desired precision is reached.\n",
    "\n",
    "Let us implement this in Python.\n",
    "\n",
    "### Adaptive rectangle rule"
   ]
  },
  {
   "cell_type": "code",
   "execution_count": 2,
   "metadata": {},
   "outputs": [],
   "source": [
    "# Rectangle rule for numerical integration with adaptive step\n",
    "def rectangle_rule_adaptive(f, a, b, nst = 1, tol = 1.e-8, max_iterations = 16):\n",
    "    Iprev = 0.\n",
    "    n = nst\n",
    "    Iprev = rectangle_rule(f, a, b, n)\n",
    "    print(\"Iteration: {0:5}, I = {1:20.15f}\".format(1, Iprev))\n",
    "    for k in range(1, max_iterations):\n",
    "        n *= 2\n",
    "        Inew = rectangle_rule(f, a, b, n)\n",
    "        ek = (Inew - Iprev) / 3.\n",
    "        print(\"Iteration: {0:5}, I = {1:20.15f}, error estimate = {2:10.15f}\".format(k+1, Inew, ek))\n",
    "        if (abs(ek) < tol):\n",
    "            return Inew\n",
    "        Iprev = Inew\n",
    "        \n",
    "    print(\"Failed to achieve the desired accuracy after\", max_iterations,\"iterations\")\n",
    "    return Inew"
   ]
  },
  {
   "cell_type": "markdown",
   "metadata": {},
   "source": [
    "Let illustrate this with an example."
   ]
  },
  {
   "cell_type": "code",
   "execution_count": 4,
   "metadata": {},
   "outputs": [
    {
     "name": "stdout",
     "output_type": "stream",
     "text": [
      "Computing the integral of x^4 - 2x + 2 over the interval ( 0.0 , 2.0 ) using adaptive rectangle rule\n",
      "Iteration:     1, I =    2.000000000000000\n",
      "Iteration:     2, I =    5.125000000000000, error estimate = 1.041666666666667\n",
      "Iteration:     3, I =    6.070312500000000, error estimate = 0.315104166666667\n",
      "Iteration:     4, I =    6.316894531250000, error estimate = 0.082194010416667\n",
      "Iteration:     5, I =    6.379180908203125, error estimate = 0.020762125651042\n",
      "Iteration:     6, I =    6.394792556762695, error estimate = 0.005203882853190\n",
      "Iteration:     7, I =    6.398697972297668, error estimate = 0.001301805178324\n",
      "Iteration:     8, I =    6.399674482643604, error estimate = 0.000325503448645\n",
      "Iteration:     9, I =    6.399918620008975, error estimate = 0.000081379121790\n",
      "Iteration:    10, I =    6.399979654961498, error estimate = 0.000020344984174\n",
      "Iteration:    11, I =    6.399994913737828, error estimate = 0.000005086258777\n",
      "Iteration:    12, I =    6.399998728434201, error estimate = 0.000001271565458\n",
      "Iteration:    13, I =    6.399999682108611, error estimate = 0.000000317891470\n",
      "Iteration:    14, I =    6.399999920527143, error estimate = 0.000000079472844\n",
      "Iteration:    15, I =    6.399999980131772, error estimate = 0.000000019868210\n",
      "Iteration:    16, I =    6.399999995032923, error estimate = 0.000000004967050\n"
     ]
    }
   ],
   "source": [
    "# The function example we will use\n",
    "# Overwrite as applicable\n",
    "\n",
    "flabel = 'x^4 - 2x + 2'\n",
    "def f(x):\n",
    "    return x**4 - 2*x + 2\n",
    "flimit_a = 0.\n",
    "flimit_b = 2.\n",
    "\n",
    "a = flimit_a\n",
    "b = flimit_b\n",
    "print(\"Computing the integral of\",flabel, \"over the interval (\",a,\",\",b,\") using adaptive rectangle rule\")\n",
    "res = rectangle_rule_adaptive(f,a,b)"
   ]
  },
  {
   "cell_type": "markdown",
   "metadata": {},
   "source": [
    "### Adaptive trapezoidal rule"
   ]
  },
  {
   "cell_type": "code",
   "execution_count": 5,
   "metadata": {},
   "outputs": [],
   "source": [
    "# Trapezoidal rule for numerical integration with adaptive step\n",
    "def trapezoidal_rule_adaptive(f, a, b, nst = 1, tol = 1.e-8, max_iterations = 16):\n",
    "    Iprev = 0.\n",
    "    n = nst\n",
    "    Iprev = trapezoidal_rule(f, a, b, n)\n",
    "    print(\"Iteration: {0:5}, I = {1:20.15f}\".format(1, Iprev))\n",
    "    for k in range(1, max_iterations):\n",
    "        n *= 2\n",
    "        Inew = trapezoidal_rule(f, a, b, n)\n",
    "        ek = (Inew - Iprev) / 3.\n",
    "        print(\"Iteration: {0:5}, I = {1:20.15f}, error estimate = {2:10.15f}\".format(k+1, Inew, ek))\n",
    "        if (abs(ek) < tol):\n",
    "            return Inew\n",
    "        Iprev = Inew\n",
    "        \n",
    "    print(\"Failed to achieve the desired accuracy after\", max_iterations,\"iterations\")\n",
    "    return Inew"
   ]
  },
  {
   "cell_type": "code",
   "execution_count": 6,
   "metadata": {},
   "outputs": [
    {
     "name": "stdout",
     "output_type": "stream",
     "text": [
      "Computing the integral of x^4 - 2x + 2 over the interval ( 0.0 , 2.0 ) using adaptive trapezoidal rule\n",
      "Iteration:     1, I =   16.000000000000000\n",
      "Iteration:     2, I =    9.000000000000000, error estimate = -2.333333333333333\n",
      "Iteration:     3, I =    7.062500000000000, error estimate = -0.645833333333333\n",
      "Iteration:     4, I =    6.566406250000000, error estimate = -0.165364583333333\n",
      "Iteration:     5, I =    6.441650390625000, error estimate = -0.041585286458333\n",
      "Iteration:     6, I =    6.410415649414062, error estimate = -0.010411580403646\n",
      "Iteration:     7, I =    6.402604103088379, error estimate = -0.002603848775228\n",
      "Iteration:     8, I =    6.400651037693024, error estimate = -0.000651021798452\n",
      "Iteration:     9, I =    6.400162760168314, error estimate = -0.000162759174903\n",
      "Iteration:    10, I =    6.400040690088645, error estimate = -0.000040690026556\n",
      "Iteration:    11, I =    6.400010172525072, error estimate = -0.000010172521191\n",
      "Iteration:    12, I =    6.400002543131352, error estimate = -0.000002543131240\n",
      "Iteration:    13, I =    6.400000635782950, error estimate = -0.000000635782801\n",
      "Iteration:    14, I =    6.400000158945742, error estimate = -0.000000158945736\n",
      "Iteration:    15, I =    6.400000039736406, error estimate = -0.000000039736446\n",
      "Iteration:    16, I =    6.400000009934106, error estimate = -0.000000009934100\n"
     ]
    }
   ],
   "source": [
    "a = flimit_a\n",
    "b = flimit_b\n",
    "print(\"Computing the integral of\",flabel, \"over the interval (\",a,\",\",b,\") using adaptive trapezoidal rule\")\n",
    "res =trapezoidal_rule_adaptive(f,a,b)"
   ]
  },
  {
   "cell_type": "markdown",
   "metadata": {},
   "source": [
    "### Adaptive Simpson's rule\n",
    "\n",
    "The error estimate of Simpson's rule is $\\varepsilon = c h^4$. \n",
    "For this reason the error estimate of $k$th iteration is\n",
    "\n",
    "$$\n",
    "\\varepsilon_k \\simeq (I_k - I_{k-1}) / 15.\n",
    "$$\n"
   ]
  },
  {
   "cell_type": "code",
   "execution_count": 7,
   "metadata": {},
   "outputs": [],
   "source": [
    "# Simpson's rule for numerical integration with adaptive step\n",
    "def simpson_rule_adaptive(f, a, b, nst = 2, tol = 1.e-8, max_iterations = 16):\n",
    "    Iprev = 0.\n",
    "    n = nst\n",
    "    Iprev = simpson_rule(f, a, b, n)\n",
    "    print(\"Iteration: {0:5}, I = {1:20.15f}\".format(1, Iprev))\n",
    "    for k in range(1, max_iterations):\n",
    "        n *= 2\n",
    "        Inew = simpson_rule(f, a, b, n)\n",
    "        ek = (Inew - Iprev) / 15.\n",
    "        \n",
    "        print(\"Iteration: {0:5}, I = {1:20.15f}, error estimate = {2:10.15f}\".format(k+1, Inew, ek))\n",
    "        if (abs(ek) < tol):\n",
    "            return Inew\n",
    "        Iprev = Inew\n",
    "        \n",
    "    print(\"Failed to achieve the desired accuracy after\", max_iterations,\"iterations\")\n",
    "    return Inew"
   ]
  },
  {
   "cell_type": "code",
   "execution_count": 8,
   "metadata": {},
   "outputs": [
    {
     "name": "stdout",
     "output_type": "stream",
     "text": [
      "Computing the integral of x^4 - 2x + 2 over the interval ( 0.0 , 2.0 ) using adaptive Simpson's rule\n",
      "Iteration:     1, I =    6.666666666666666\n",
      "Iteration:     2, I =    6.416666666666666, error estimate = -0.016666666666667\n",
      "Iteration:     3, I =    6.401041666666666, error estimate = -0.001041666666667\n",
      "Iteration:     4, I =    6.400065104166666, error estimate = -0.000065104166667\n",
      "Iteration:     5, I =    6.400004069010416, error estimate = -0.000004069010417\n",
      "Iteration:     6, I =    6.400000254313150, error estimate = -0.000000254313151\n",
      "Iteration:     7, I =    6.400000015894571, error estimate = -0.000000015894572\n",
      "Iteration:     8, I =    6.400000000993410, error estimate = -0.000000000993411\n"
     ]
    }
   ],
   "source": [
    "a = flimit_a\n",
    "b = flimit_b\n",
    "print(\"Computing the integral of\",flabel, \"over the interval (\",a,\",\",b,\") using adaptive Simpson's rule\")\n",
    "res = simpson_rule_adaptive(f,a,b,2)"
   ]
  },
  {
   "cell_type": "markdown",
   "metadata": {},
   "source": [
    "### Example: Runge function\n",
    "\n",
    "Recall the problematic Runge functio\n",
    "\n",
    "$$\n",
    "f(x) = \\frac{1}{1+25x^2}\n",
    "$$\n",
    "\n",
    "Let us compute the integral of this function over the interval $[-2,2]$\n"
   ]
  },
  {
   "cell_type": "code",
   "execution_count": 9,
   "metadata": {},
   "outputs": [
    {
     "name": "stdout",
     "output_type": "stream",
     "text": [
      "Computing the integral of Runge function over the interval ( -2.0 , 2.0 ) using adaptive trapezoidal rule\n",
      "Iteration:     1, I =    1.086824067022087\n",
      "Iteration:     2, I =    0.698810316902099, error estimate = -0.129337916706663\n",
      "Iteration:     3, I =    0.596649043819530, error estimate = -0.034053757694190\n",
      "Iteration:     4, I =    0.588479663841841, error estimate = -0.002723126659230\n",
      "Iteration:     5, I =    0.588444691123849, error estimate = -0.000011657572664\n",
      "Iteration:     6, I =    0.588449474263155, error estimate = 0.000001594379768\n",
      "Iteration:     7, I =    0.588450670842736, error estimate = 0.000000398859860\n",
      "Iteration:     8, I =    0.588450970000918, error estimate = 0.000000099719394\n",
      "Iteration:     9, I =    0.588451044791294, error estimate = 0.000000024930125\n",
      "Iteration:    10, I =    0.588451063488940, error estimate = 0.000000006232549\n",
      "Iteration:    11, I =    0.588451068163354, error estimate = 0.000000001558138\n",
      "Iteration:    12, I =    0.588451069331961, error estimate = 0.000000000389535\n",
      "Iteration:    13, I =    0.588451069624111, error estimate = 0.000000000097383\n"
     ]
    }
   ],
   "source": [
    "rungelabel = \"Runge function\"\n",
    "def runge(x):\n",
    "    return 1./(25*x**2 + 1.)\n",
    "\n",
    "a = -2.\n",
    "b = 2.\n",
    "print(\"Computing the integral of\",rungelabel, \"over the interval (\",a,\",\",b,\") using adaptive trapezoidal rule\")\n",
    "res = trapezoidal_rule_adaptive(runge,a,b,4,1.e-10)"
   ]
  },
  {
   "cell_type": "markdown",
   "metadata": {},
   "source": [
    "### Romberg method\n",
    "\n",
    "Romberg method is a generalization of the above logic for cancelling higher-order errors.\n",
    "The corresponding procedure is called [Richardson extrapolation](https://en.wikipedia.org/wiki/Richardson_extrapolation) and forms a quintessential method for computing integrals using equidistant grids.\n",
    "\n",
    "#### Derivation\n",
    "\n",
    "Recall how we estimated the $\\mathcal{O}(h^2)$ error in the k$th$ step of the trapezoidal method as\n",
    "\n",
    "$$\n",
    "I - I_k = \\frac{I_k - I_{k-1}}{3} + \\mathcal{O}(h^4).\n",
    "$$\n",
    "\n",
    "The integral can therefore be estimated to $\\mathcal{O}(h^4)$ order as\n",
    "\n",
    "$$\n",
    "I = I_k + \\frac{I_k - I_{k-1}}{3} + \\mathcal{O}(h^4),\n",
    "$$\n",
    "\n",
    "which is in fact nothing else but the Simpson rule.\n",
    "\n",
    "We can denote $R_{k,0} = I_k$ and $R_{k,1} = R_{k,0} + \\frac{R_{k,0} - R_{k-1,0}}{3}$.\n",
    "As seen above \n",
    "\n",
    "$$\n",
    "I = R_{k,1} + \\mathcal{O}(h^4).\n",
    "$$\n",
    "\n",
    "Repeating this process to eliminate the $\\mathcal{O}(h^4)$ we get a higher-order estimate\n",
    "\n",
    "$$\n",
    "R_{k,2} = R_{k,1} + \\frac{R_{k,1} - R_{k-1,1}}{15}\n",
    "$$\n",
    "\n",
    "which accurate to order $\\mathcal{O}(h^6)$.\n",
    "\n",
    "The general formula for an integral estimate of order $\\mathcal{O}(h^{2m+2})$ reads\n",
    "\n",
    "$$\n",
    "R_{k,m+1} = R_{k,m} + \\frac{R_{k,m} - R_{k-1,m}}{4^{m} - 1}~.\n",
    "$$"
   ]
  },
  {
   "cell_type": "markdown",
   "metadata": {},
   "source": [
    "#### Implementation"
   ]
  },
  {
   "cell_type": "code",
   "execution_count": 10,
   "metadata": {},
   "outputs": [],
   "source": [
    "def romberg(\n",
    "    f, \n",
    "    a, \n",
    "    b, \n",
    "    accuracy=1e-8, \n",
    "    max_order=10\n",
    "):\n",
    "    R = np.zeros((max_order, max_order))\n",
    "    h = (b - a) / 2.\n",
    "    R[0, 0] = h * (f(a) + f(b)) # The initial trapezoidal rule   \n",
    "    for n in range(1, max_order):\n",
    "        trapezoid = 0.0\n",
    "        for j in range(2**(n-1)):\n",
    "            trapezoid += f(a + (2*j+1)*h)\n",
    "        R[n, 0] = 0.5 * R[n-1, 0] + h * trapezoid # The trapezoidal rule\n",
    "        l = 1\n",
    "        # The Romberg iterations\n",
    "        for m in range(1, n+1):\n",
    "            l *= 4\n",
    "            R[n, m] = (l * R[n, m-1] - R[n-1, m-1]) / (l-1)\n",
    "        print(\"Iteration: {0:5}, I = {1:20.15f}, error estimate = {2:10.15f}\".format(n, R[n, m], abs(R[n, m] - R[n-1, m-1])))\n",
    "        if abs(R[n, m] - R[n-1, m-1]) < accuracy:\n",
    "            return R[n, m]\n",
    "        h /= 2.\n",
    "    print(\"Romberg method did not converge to required accuracy\")\n",
    "    return R[-1, -1]"
   ]
  },
  {
   "cell_type": "markdown",
   "metadata": {},
   "source": [
    "#### Illustration\n",
    "\n",
    "Let us compute our first integral using the Romberg method."
   ]
  },
  {
   "cell_type": "code",
   "execution_count": 11,
   "metadata": {},
   "outputs": [
    {
     "name": "stdout",
     "output_type": "stream",
     "text": [
      "Computing the integral of x^4 - 2x + 2 over the interval ( 0.0 , 2.0 ) using Romberg method\n",
      "Iteration:     1, I =    6.666666666666667, error estimate = 9.333333333333332\n",
      "Iteration:     2, I =    6.400000000000000, error estimate = 0.266666666666667\n",
      "Iteration:     3, I =    6.400000000000000, error estimate = 0.000000000000000\n"
     ]
    }
   ],
   "source": [
    "a = flimit_a\n",
    "b = flimit_b\n",
    "print(\"Computing the integral of\",flabel, \"over the interval (\",a,\",\",b,\") using Romberg method\")\n",
    "res = romberg(f,a,b,1e-6,18)"
   ]
  },
  {
   "cell_type": "markdown",
   "metadata": {},
   "source": [
    "Now let us consider a more involved example of the Runge function"
   ]
  },
  {
   "cell_type": "code",
   "execution_count": 12,
   "metadata": {
    "scrolled": true
   },
   "outputs": [
    {
     "name": "stdout",
     "output_type": "stream",
     "text": [
      "Computing the integral of Runge function over the interval ( -2.0 , 2.0 ) using Romberg method\n",
      "Iteration:     1, I =    2.679867986798680, error estimate = 2.640264026402640\n",
      "Iteration:     2, I =    0.648895658796649, error estimate = 2.030972328002031\n",
      "Iteration:     3, I =    0.554236075601252, error estimate = 0.094659583195396\n",
      "Iteration:     4, I =    0.562270126297315, error estimate = 0.008034050696062\n",
      "Iteration:     5, I =    0.587824850153293, error estimate = 0.025554723855978\n",
      "Iteration:     6, I =    0.588636945021199, error estimate = 0.000812094867906\n",
      "Iteration:     7, I =    0.588448788195693, error estimate = 0.000188156825505\n",
      "Iteration:     8, I =    0.588451058525226, error estimate = 0.000002270329532\n",
      "Iteration:     9, I =    0.588451069812733, error estimate = 0.000000011287507\n"
     ]
    }
   ],
   "source": [
    "a = -2.\n",
    "b = 2.\n",
    "print(\"Computing the integral of\",rungelabel, \"over the interval (\",a,\",\",b,\") using Romberg method\")\n",
    "res =romberg(runge,a,b,1e-6,18)"
   ]
  }
 ],
 "metadata": {
  "kernelspec": {
   "display_name": "CompPhys",
   "language": "python",
   "name": "python3"
  },
  "language_info": {
   "codemirror_mode": {
    "name": "ipython",
    "version": 3
   },
   "file_extension": ".py",
   "mimetype": "text/x-python",
   "name": "python",
   "nbconvert_exporter": "python",
   "pygments_lexer": "ipython3",
   "version": "3.10.13"
  }
 },
 "nbformat": 4,
 "nbformat_minor": 4
}
