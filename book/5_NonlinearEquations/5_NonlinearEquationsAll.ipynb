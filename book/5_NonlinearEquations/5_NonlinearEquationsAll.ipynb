{
 "cells": [
  {
   "cell_type": "markdown",
   "metadata": {},
   "source": [
    "# Non-linear equations\n",
    "\n",
    "In physics (and not only) we often need to find a root of an equation\n",
    "\n",
    "$$\n",
    "f(x) = 0.\n",
    "$$\n",
    "\n",
    "Sometimes, the equation has more than one root and we need to find all of them.\n",
    "Or we can have a system of equations. \n",
    "\n",
    "There are various methods to tackle these problems explored in this chapter.\n",
    "\n",
    "```{tableofcontents}\n",
    "```\n"
   ]
  }
 ],
 "metadata": {
  "kernelspec": {
   "display_name": "Python 3 (ipykernel)",
   "language": "python",
   "name": "python3"
  },
  "language_info": {
   "codemirror_mode": {
    "name": "ipython",
    "version": 3
   },
   "file_extension": ".py",
   "mimetype": "text/x-python",
   "name": "python",
   "nbconvert_exporter": "python",
   "pygments_lexer": "ipython3",
   "version": "3.10.16"
  }
 },
 "nbformat": 4,
 "nbformat_minor": 4
}
