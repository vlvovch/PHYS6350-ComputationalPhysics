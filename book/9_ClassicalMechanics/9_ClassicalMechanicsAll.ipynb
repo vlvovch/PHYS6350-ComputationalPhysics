{
 "cells": [
  {
   "cell_type": "markdown",
   "metadata": {},
   "source": [
    "# Classical mechanics\n",
    "\n",
    "This chapter covers the basic concepts of classical mechanics and their applications to physics problems.\n",
    "Most classical mechanics problems can be solved using ordinary differential equations.\n",
    "\n",
    "```{tableofcontents}\n",
    "```\n"
   ]
  },
  {
   "cell_type": "markdown",
   "metadata": {},
   "source": []
  }
 ],
 "metadata": {
  "kernelspec": {
   "display_name": "Python 3 (ipykernel)",
   "language": "python",
   "name": "python3"
  },
  "language_info": {
   "codemirror_mode": {
    "name": "ipython",
    "version": 3
   },
   "file_extension": ".py",
   "mimetype": "text/x-python",
   "name": "python",
   "nbconvert_exporter": "python",
   "pygments_lexer": "ipython3",
   "version": "3.10.13"
  }
 },
 "nbformat": 4,
 "nbformat_minor": 4
}
