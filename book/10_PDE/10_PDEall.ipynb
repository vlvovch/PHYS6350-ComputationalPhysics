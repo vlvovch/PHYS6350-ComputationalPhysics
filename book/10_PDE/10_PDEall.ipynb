{
 "cells": [
  {
   "cell_type": "markdown",
   "metadata": {},
   "source": [
    "# Partial differential equations (PDEs)\n",
    "\n",
    "Partial differential equations occur when we are dealing with functions of more than one variable, for instance *fields*.\n",
    "\n",
    "Examples:\n",
    "\n",
    "- Electrostatic potential $\\phi (x,y,z)$ (Poisson's equation)\n",
    "\n",
    "$$\n",
    "\\Delta\\phi(x,y,z) = -\\frac{\\rho(x,y,z)}{\\epsilon_0}\n",
    "$$\n",
    "\n",
    "- Density or temperature profiles (diffusion/heat equation)\n",
    "\n",
    "$$\n",
    "\\frac{\\partial u(\\mathbf{x},t)}{\\partial t} = D \\Delta u(\\mathbf{x},t)\n",
    "$$\n",
    "\n",
    "- Displacement (amplitude) profile (wave equation)\n",
    "\n",
    "$$\n",
    "\\frac{\\partial^2 u(\\mathbf{x},t)}{\\partial t^2} = c^2\\Delta u(\\mathbf{x},t)\n",
    "$$\n",
    "\n",
    "- Fluid dynamical fields (flow velocity) -- e.g. Navier-Stokes equations "
   ]
  },
  {
   "cell_type": "markdown",
   "metadata": {},
   "source": [
    "## General methods for solving PDE's\n",
    "\n",
    "- **Finite difference method**\n",
    "    - Approximate the derivatives by finite differences\n",
    "    - Easier to implement than other methods\n",
    "    - Works best for regular (rectangular) shapes\n",
    "- Finite element method\n",
    "    - Subdivide the system into smaller parts -- finite elements\n",
    "    - Boundary value problems in 2/3 dimensions\n",
    "    - Works well for irregular shapes\n",
    "- Finite volume method\n",
    "    - Convert surface integrals around each mesh point into volume integrals\n",
    "    - Conserves mass by design, good for fluid dynamical equations\n",
    "\n",
    "Here we will focus on the finite difference method.\n",
    "\n",
    "\n",
    "```{tableofcontents}\n",
    "```\n"
   ]
  },
  {
   "cell_type": "markdown",
   "metadata": {},
   "source": []
  }
 ],
 "metadata": {
  "kernelspec": {
   "display_name": "Python 3 (ipykernel)",
   "language": "python",
   "name": "python3"
  },
  "language_info": {
   "codemirror_mode": {
    "name": "ipython",
    "version": 3
   },
   "file_extension": ".py",
   "mimetype": "text/x-python",
   "name": "python",
   "nbconvert_exporter": "python",
   "pygments_lexer": "ipython3",
   "version": "3.10.16"
  }
 },
 "nbformat": 4,
 "nbformat_minor": 4
}
