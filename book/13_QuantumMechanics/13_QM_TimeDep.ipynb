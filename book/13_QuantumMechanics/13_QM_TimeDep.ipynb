{
 "cells": [
  {
   "cell_type": "markdown",
   "metadata": {},
   "source": [
    "```{admonition} Lecture Materials\n",
    ":class: tip\n",
    "[Download the slide deck for this lecture](/_static/pdf/Lecture21-QuantumMechanics.pdf)\n",
    "```"
   ]
  },
  {
   "cell_type": "code",
   "execution_count": 1,
   "metadata": {
    "tags": [
     "remove-cell"
    ]
   },
   "outputs": [],
   "source": [
    "import numpy as np\n",
    "import matplotlib.pyplot as plt\n",
    "\n",
    "# Compute the normalisation factor with trapezoidal rule\n",
    "def integral_psi2(psi, dx):\n",
    "    N = len(psi) - 1\n",
    "    ret = 0\n",
    "    \n",
    "    for k in range(N):\n",
    "        ret += psi[k] * np.conj(psi[k]) + psi[k+1] * np.conj(psi[k+1])\n",
    "    \n",
    "    ret *= 0.5 * dx\n",
    "    \n",
    "    return ret\n",
    "\n",
    "# Compute the integral (to determine the sign)\n",
    "def integral_psi(psi, dx):\n",
    "    N = len(psi) - 1\n",
    "    ret = 0\n",
    "    \n",
    "    for k in range(N//2):\n",
    "        ret += psi[k] + psi[k+1]\n",
    "    \n",
    "    ret *= 0.5 * dx\n",
    "    \n",
    "    return ret"
   ]
  },
  {
   "cell_type": "markdown",
   "metadata": {},
   "source": [
    "# Time dependent Schrödinger equation\n",
    "\n",
    "## Time evolution of free particle wave function\n",
    "\n",
    "The time-dependent Schrödinger equation reads\n",
    "\n",
    "$$\n",
    "\\hat{H} \\psi = i \\hbar \\frac{\\partial \\psi}{\\partial t}~.\n",
    "$$\n",
    "\n",
    "e.g. for a free particle it reads\n",
    "\n",
    "$$\n",
    "-\\frac{\\hbar^2}{2m} \\frac{\\partial^2 \\psi}{\\partial x^2} = i \\hbar \\frac{\\partial \\psi}{\\partial t}~.\n",
    "$$\n",
    "\n",
    "Formal solution be written as\n",
    "\n",
    "$$\n",
    "\\psi(t) = e^{-\\frac{it}{\\hbar} \\hat{H}} \\psi(0),\n",
    "$$\n",
    "\n",
    "with $\\hat{U}(t) =  e^{-\\frac{it}{\\hbar} \\hat{H}}$ being the time evolution operator.\n",
    "It is a unitary operator $U^\\dagger U = \\hat{I}$, therefore, the norm of the wave function $|\\psi|^2$ is conserved.\n",
    "\n",
    "We can study time evolution by successively applying approximate $\\hat{U}(\\Delta t)$ over small time intervals.\n",
    "We can use the same schemes we learned for solving PDEs such as wave equation.\n",
    "The only difference is that now we are dealing with complex-valued functions.\n",
    "\n",
    "### FTCS scheme\n",
    "\n",
    "$$\n",
    "\\hat{U}(\\Delta t) = e^{-\\frac{i \\Delta t}{\\hbar} \\hat{H}} \\approx 1 - \\frac{i \\Delta t}{\\hbar} \\hat{H}\n",
    "$$\n",
    "\n",
    "Such an operator is not unitary since\n",
    "\n",
    "$$\n",
    "U^\\dagger (\\Delta t) = 1 + \\frac{i \\Delta t}{\\hbar} \\hat{H} \\neq \\hat{U}(\\Delta t).\n",
    "$$\n",
    "\n",
    "If $U$ is applied to an energy eigenstate $\\psi_l$, such that $\\hat{H} \\psi_l = E_l \\psi_l$, we get\n",
    "\n",
    "$$\n",
    "\\psi_l(N \\Delta t) = \\lambda_l^N \\psi_l(0),\n",
    "$$\n",
    "\n",
    "where $\\lambda_l = \\left[1 - \\frac{i \\Delta t E_l}{\\hbar} \\right]$.\n",
    "Since $|\\lambda_l| > 1$, the method is unstable.\n",
    "\n",
    "### Implicit scheme\n",
    "\n",
    "We apply the approximation of the FTCS scheme to the inverse of $\\hat{U}(\\Delta t)$.\n",
    "This implies\n",
    "\n",
    "$$\n",
    "\\hat{U}(\\Delta t) = e^{-\\frac{i \\Delta t}{\\hbar} \\hat{H}} \\approx \\frac{1}{1 + \\frac{i \\Delta t}{\\hbar} \\hat{H}}.\n",
    "$$\n",
    "\n",
    "The operator is also non-unitary. The method is stable because\n",
    "\n",
    "$$\n",
    "|\\lambda_l| = \\left| \\frac{1}{1 + \\frac{i \\Delta t}{\\hbar} E_l} \\right| < 1,\n",
    "$$\n",
    "\n",
    "but the method does not conserve the norm of the wave function.\n",
    "\n",
    "### Crank-Nicholson scheme\n",
    "\n",
    "Crank-Nicholson scheme takes the combination of FTCS and implicit schemes.\n",
    "This corresponds to a rational approximation of $\\hat{U}(\\Delta t)$:\n",
    "\n",
    "$$\n",
    "\\hat{U}(\\Delta t) = e^{-\\frac{i \\Delta t}{\\hbar} \\hat{H}} \\approx \\frac{1 - \\frac{i \\Delta t}{2\\hbar} \\hat{H}}{1 + \\frac{i \\Delta t}{2\\hbar} \\hat{H}}.\n",
    "$$\n",
    "\n",
    "This operator is **unitary** (for an hermitian $\\hat{H}$), $U^\\dagger U = U U^\\dagger$, and conserves the norm of the wave function."
   ]
  },
  {
   "cell_type": "markdown",
   "metadata": {},
   "source": [
    "Let us consider the particle in a box of length $L$.\n",
    "We thus have boundary conditions $\\psi(0) = \\psi(L) = 0$.\n",
    "\n",
    "Given some initial wave function $\\psi(x)$, we can numerically integrate the Schrödinger equation to study the time evolution of the wave function.\n",
    "\n",
    "Let us write the equation in a form:\n",
    "\n",
    "$$\n",
    "\\frac{\\partial \\psi}{\\partial t} = \\frac{i \\hbar}{2m} \\frac{\\partial^2 \\psi}{\\partial x^2}.\n",
    "$$\n",
    "\n",
    "We can now use the central difference approximation for $\\partial^2 \\psi / \\partial x^2$:\n",
    "\n",
    "$$\n",
    "\\frac{\\partial^2 \\psi}{\\partial x^2} \\approx \\frac{1}{a^2} \\left[ \\psi(x+a,t) - 2 \\psi(x,t) + \\psi(x-a,t) \\right].\n",
    "$$\n",
    "\n",
    "This gives us discretized wave function in coordinate space, in full analogy to the heat equation that we studied before. The only difference is that now we are dealing with complex-valued functions.\n",
    "\n",
    "We now need to apply the prescription for time evolution.\n",
    "The options are:\n",
    "- FTCS scheme\n",
    "\n",
    "$$\n",
    "\\psi(x,t+h) = \\psi(x,t) + h \\frac{i \\hbar}{2ma^2} \\left[ \\psi(x+a,t) - 2 \\psi(x,t) + \\psi(x-a,t) \\right],\n",
    "$$\n",
    "\n",
    "or\n",
    "\n",
    "$$\n",
    "\\psi^{n+1}_k = \\psi^n_k + h \\frac{i \\hbar}{2ma^2} (\\psi^n_{k+1} - 2 \\psi^n_k + \\psi^n_{k-1}).\n",
    "$$\n",
    "\n",
    "- Implicit scheme\n",
    "\n",
    "$$\n",
    "\\psi^{n+1}_k = \\psi^n_k + h \\frac{i \\hbar}{2ma^2} (\\psi^{n+1}_{k+1} - 2 \\psi^{n+1}_k + \\psi^{n+1}_{k-1}).\n",
    "$$\n",
    "\n",
    "- Crank-Nicholson scheme\n",
    "\n",
    "$$\n",
    "\\psi^{n+1}_k = \\psi^n_k + \\frac{h}{2} \\frac{i \\hbar}{2ma^2} (\\psi^n_{k+1} - 2 \\psi^n_k + \\psi^n_{k-1}) + \\frac{h}{2} \\frac{i \\hbar}{2ma^2} (\\psi^{n+1}_{k+1} - 2 \\psi^{n+1}_k + \\psi^{n+1}_{k-1}).\n",
    "$$\n",
    "\n",
    "To preserve unitarity it makes sense to apply Crank-Nicholson scheme.\n",
    "In this case we need to solve the tridiagonal system of equations at each time step."
   ]
  },
  {
   "cell_type": "code",
   "execution_count": 2,
   "metadata": {
    "tags": [
     "remove-cell"
    ]
   },
   "outputs": [],
   "source": [
    "import numpy as np\n",
    "\n",
    "# Solve tridiagonal system of linear equations\n",
    "#  d: vector of diagonal elements\n",
    "#  l: vector of elements on the lower subdiagonal\n",
    "#  u: vector of elements on the upper superdiagonal\n",
    "# v0: right-hand-side vector\n",
    "def linsolve_tridiagonal(d, l, u, v0):\n",
    "    # Initialization\n",
    "    N = len(v0)\n",
    "    a = d.copy() # Current diagonal elements\n",
    "    b = u.copy() # Current upper diagonal elements\n",
    "    v = v0.copy()\n",
    "    \n",
    "    # Gaussian elimination\n",
    "    for r in range(N):\n",
    "        if (a[r] == 0.):\n",
    "            print(\"Diagonal element is zero! Cannot solve the tridiagonal system with simple Gaussian elimination\")\n",
    "            return None\n",
    "        b[r] /= a[r]\n",
    "        v[r] /= a[r]\n",
    "        a[r] = 1.\n",
    "        if (r < N - 1):\n",
    "            a[r + 1] -= l[r+1] * b[r]\n",
    "            v[r + 1] -= l[r+1] * v[r]\n",
    "            \n",
    "    # Backsubstitution\n",
    "    x = np.empty(N,dtype=np.cdouble)\n",
    "    \n",
    "    x[N - 1] = v[N - 1]\n",
    "    for r in range(N-2,-1,-1):\n",
    "        x[r] = v[r] - b[r] * x[r + 1]\n",
    "            \n",
    "    return x"
   ]
  },
  {
   "cell_type": "markdown",
   "metadata": {},
   "source": [
    "## Implementation\n",
    "\n",
    "Let us implement the time evolution of a free particle wave function using the difference schemes."
   ]
  },
  {
   "cell_type": "code",
   "execution_count": 3,
   "metadata": {},
   "outputs": [],
   "source": [
    "me   = 9.1094e-31  # Mass of electron in kg\n",
    "hbar = 1.0546e-34  # Planck's constant over 2*pi\n",
    "\n",
    "# Single Crank-Nicholson scheme iteration for the Schroedinger equation\n",
    "# psi is a complex-valued wave function discretized in space\n",
    "# r = i * h * hbar / (2*m*a^2)\n",
    "# scheme: 0 - FTCS, 1 - implicit, 2 - Crank-Nicholson\n",
    "def schrodinger_finitediff_iteration(psi, r, scheme = 2):\n",
    "    N = len(psi) - 1\n",
    "    \n",
    "    psinew = np.empty_like(psi, dtype=np.cdouble)\n",
    "    \n",
    "    # Boundary conditions\n",
    "    psinew[0] = psi[0]\n",
    "    psinew[N] = psi[N]\n",
    "    \n",
    "    if (scheme == 0):\n",
    "        for i in range(1,N):\n",
    "            psinew[i] = psi[i] + r * (psi[i+1] - 2 * psi[i] + psi[i-1])\n",
    "    elif (scheme == 1):\n",
    "        d  = np.full(N-1, 1 + 2*r)\n",
    "        ud = np.full(N-1, -r)\n",
    "        ld = np.full(N-1, -r)\n",
    "\n",
    "        # Implicit scheme matrix\n",
    "        v = np.array(psi[1:N])\n",
    "        v[0]   += r * psi[0]\n",
    "        v[N-2] += r * psi[N]\n",
    "\n",
    "        # Solve tridiagonal system\n",
    "        psinew[1:N] = linsolve_tridiagonal(d, ld, ud, v)\n",
    "    else:\n",
    "        d  = np.full(N-1, 2*(1+r))\n",
    "        ud = np.full(N-1, -r)\n",
    "        ld = np.full(N-1, -r)\n",
    "\n",
    "        # Crank-Nicolson explicit step\n",
    "        v = psi[1:N]*2*(1-r) + psi[:-2]*r + psi[2:]*r\n",
    "        v[0]   += r * psi[0]\n",
    "        v[N-2] += r * psi[N]\n",
    "\n",
    "        # Solve tridiagonal system\n",
    "        psinew[1:N] = linsolve_tridiagonal(d, ld, ud, v)\n",
    "    \n",
    "    return psinew\n",
    "\n",
    "def schrodinger_finitediff_solve(psi0, h, nsteps, a, m = me, scheme = 2):\n",
    "    psi = psi0.copy()\n",
    "    r = 1j * h * hbar / (2 * m * a**2)\n",
    "    for i in range(nsteps):\n",
    "        psi = schrodinger_finitediff_iteration(psi, r, scheme)\n",
    "        \n",
    "    return psi\n"
   ]
  },
  {
   "cell_type": "markdown",
   "metadata": {},
   "source": [
    "Initial condition is a Gaussian wave packet moving to the right."
   ]
  },
  {
   "cell_type": "code",
   "execution_count": 4,
   "metadata": {},
   "outputs": [
    {
     "data": {
      "image/png": "[encoded data removed]",
      "text/plain": [
       "<Figure size 640x480 with 1 Axes>"
      ]
     },
     "metadata": {},
     "output_type": "display_data"
    }
   ],
   "source": [
    "L = 1e-8 # m\n",
    "x0 = L / 2.\n",
    "sig = 1e-10 # m\n",
    "kappa = 5e10 # m^-1\n",
    "\n",
    "# Number of grid points\n",
    "N = 1000\n",
    "dx = L / N\n",
    "\n",
    "# Initial wave function\n",
    "def psi0(x):\n",
    "    return np.exp(-(x-x0)**2/(2*sig**2))*np.exp(1j*kappa*x)\n",
    "\n",
    "xk = []\n",
    "psi = np.zeros([N+1],dtype=np.cdouble)\n",
    "for k in range(N+1):\n",
    "    x = dx * k\n",
    "    xk.append(x)\n",
    "    #print(x,\" \",x0,\" \", psi0(x))\n",
    "    psi[k] = psi0(x)\n",
    "psi[0] = 0\n",
    "psi[N] = 0\n",
    "\n",
    "norm0 = integral_psi2(psi, dx)\n",
    "\n",
    "import matplotlib.pyplot as plt\n",
    "plt.title(\"Free particle in a box\")\n",
    "plt.xlabel('${x}$ [m]')\n",
    "plt.ylabel('${\\psi_0(x)}$')\n",
    "plt.xlim(L/2 - 0.05*L,L/2 + 0.05*L)\n",
    "plt.plot([dx*k for k in range(N+1)], np.real(psi), label=\"Re ${\\psi_0(x)}$\")\n",
    "plt.plot([dx*k for k in range(N+1)], np.imag(psi), label=\"Im ${\\psi_0(x)}$\")\n",
    "plt.plot([dx*k for k in range(N+1)], np.abs(psi)**2, label=\"$|{\\psi_0(x)|^2}$\")\n",
    "plt.legend()\n",
    "plt.show()"
   ]
  },
  {
   "cell_type": "markdown",
   "metadata": {},
   "source": [
    "Now integrate over time\n",
    "\n",
    "### FTCS scheme"
   ]
  },
  {
   "cell_type": "code",
   "execution_count": 5,
   "metadata": {},
   "outputs": [],
   "source": [
    "xk = []\n",
    "psi = np.zeros([N+1],dtype=np.cdouble)\n",
    "for k in range(N+1):\n",
    "    x = dx * k\n",
    "    xk.append(x)\n",
    "    #print(x,\" \",x0,\" \", psi0(x))\n",
    "    psi[k] = psi0(x)\n",
    "psi[0] = 0\n",
    "psi[N] = 0\n",
    "\n",
    "current_time = 0.\n",
    "h = 1e-19\n",
    "nsteps = 18\n",
    "scheme = 0 # 0 - FTCS, 1 - implicit, 2 - Crank-Nicholson\n",
    "for i in range(100):\n",
    "    psi = schrodinger_finitediff_solve(psi, h, nsteps, dx, me, scheme)\n",
    "    current_time += h * nsteps"
   ]
  },
  {
   "cell_type": "markdown",
   "metadata": {},
   "source": [
    "![](schrodinger_equation_1D_pulse_FTCS.gif)"
   ]
  },
  {
   "cell_type": "code",
   "execution_count": 6,
   "metadata": {
    "tags": [
     "remove-cell"
    ]
   },
   "outputs": [],
   "source": [
    "from matplotlib.animation import FuncAnimation\n",
    "\n",
    "xk = []\n",
    "psi = np.zeros([N+1],dtype=np.cdouble)\n",
    "for k in range(N+1):\n",
    "    x = dx * k\n",
    "    xk.append(x)\n",
    "    #print(x,\" \",x0,\" \", psi0(x))\n",
    "    psi[k] = psi0(x)\n",
    "psi[0] = 0\n",
    "psi[N] = 0\n",
    "\n",
    "fig, ax = plt.subplots(1, 1)\n",
    "fig.set_size_inches(7, 5, forward=True)\n",
    "fig.suptitle(\"Schroedinger equation (FTCS)\", fontsize = 18)\n",
    "current_time = 0\n",
    "\n",
    "ax.set_xlabel('${x}$ [m]')\n",
    "ax.set_ylabel('${\\psi(x)}$')\n",
    "line = ax.plot(xk,np.abs(psi)**2, label=\"${|\\psi_0(x)}|^2$, norm = \" + '{:.5f}'.format(integral_psi2(psi,dx)/norm0))[0]\n",
    "title = ax.set_title(\"Schroedinger equation (FTCS)\")\n",
    "plt.legend(loc=\"upper right\")\n",
    "plt.xlim(0,L)\n",
    "plt.ylim(-1.1,1.1)\n",
    "\n",
    "scheme = 0\n",
    "\n",
    "def animate_schrodinger_equation_FTCS(i):\n",
    "    global fps, tottime, tend\n",
    "    nsteps = 6\n",
    "    global psi, current_time\n",
    "    psi = schrodinger_finitediff_solve(psi, h, nsteps, dx, me, scheme)\n",
    "    current_time += h * nsteps\n",
    "    title.set_text(\"t = \" + '{:.1f}'.format(current_time*1.e18) + \" as\")\n",
    "    line.set_ydata(np.abs(psi)**2)\n",
    "    L = ax.legend()\n",
    "    L.get_texts()[0].set_text(\"${|\\psi_0(x)}|^2$, norm = \" + '{:.5f}'.format(integral_psi2(psi,dx)/norm0))\n",
    "    return [line, title, L]\n",
    "\n",
    "fps = 30\n",
    "tottime = 10.\n",
    "ani = FuncAnimation(fig, animate_schrodinger_equation_FTCS, frames=round(fps * tottime), interval=1000/fps, repeat=False)\n",
    "plt.close();\n",
    "\n",
    "# ani.save(\"schrodinger_equation_1D_pulse.gif\")\n",
    "\n",
    "# from IPython.display import HTML\n",
    "# HTML(ani.to_jshtml(default_mode=\"loop\"))"
   ]
  },
  {
   "cell_type": "markdown",
   "metadata": {},
   "source": [
    "The divergence of the FTCS scheme is evident."
   ]
  },
  {
   "cell_type": "markdown",
   "metadata": {},
   "source": [
    "### Implicit scheme\n",
    "\n",
    "Implicit scheme is more stable but it does not conserve the norm of the wave function, which decreases over time."
   ]
  },
  {
   "cell_type": "markdown",
   "metadata": {},
   "source": [
    "![](schrodinger_equation_1D_pulse_implicit.gif)"
   ]
  },
  {
   "cell_type": "code",
   "execution_count": 7,
   "metadata": {
    "tags": [
     "remove-input",
     "remove-cell"
    ]
   },
   "outputs": [
    {
     "name": "stderr",
     "output_type": "stream",
     "text": [
      "/opt/anaconda3/envs/CompPhys/lib/python3.10/site-packages/matplotlib/animation.py:908: UserWarning: Animation was deleted without rendering anything. This is most likely not intended. To prevent deletion, assign the Animation to a variable, e.g. `anim`, that exists until you output the Animation using `plt.show()` or `anim.save()`.\n",
      "  warnings.warn(\n"
     ]
    }
   ],
   "source": [
    "from matplotlib.animation import FuncAnimation\n",
    "\n",
    "xk = []\n",
    "psi = np.zeros([N+1],dtype=np.cdouble)\n",
    "for k in range(N+1):\n",
    "    x = dx * k\n",
    "    xk.append(x)\n",
    "    #print(x,\" \",x0,\" \", psi0(x))\n",
    "    psi[k] = psi0(x)\n",
    "psi[0] = 0\n",
    "psi[N] = 0\n",
    "\n",
    "fig, ax = plt.subplots(1, 1)\n",
    "fig.set_size_inches(7, 5, forward=True)\n",
    "fig.suptitle(\"Schroedinger equation (Implicit Scheme)\", fontsize = 18)\n",
    "current_time = 0\n",
    "\n",
    "ax.set_xlabel('${x}$ [m]')\n",
    "ax.set_ylabel('${\\psi(x)}$')\n",
    "line = ax.plot(xk,np.abs(psi)**2, label=\"${|\\psi_0(x)}|^2$, norm = \" + '{:.5f}'.format(integral_psi2(psi,dx)/norm0))[0]\n",
    "title = ax.set_title(\"Schroedinger equation (Implicit)\")\n",
    "plt.legend(loc=\"upper right\")\n",
    "plt.xlim(0,L)\n",
    "plt.ylim(-1.1,1.1)\n",
    "\n",
    "scheme = 1\n",
    "\n",
    "fps = 30\n",
    "tottime = 10.\n",
    "ani = FuncAnimation(fig, animate_schrodinger_equation_FTCS, frames=round(fps * tottime), interval=1000/fps, repeat=False)\n",
    "plt.close();\n",
    "\n",
    "# ani.save(\"schrodinger_equation_1D_pulse_implicit.gif\")\n",
    "\n",
    "# from IPython.display import HTML\n",
    "# HTML(ani.to_jshtml(default_mode=\"loop\"))"
   ]
  },
  {
   "cell_type": "markdown",
   "metadata": {},
   "source": [
    "### Crank-Nicholson scheme\n",
    "\n",
    "Crank-Nicholson scheme is a second-order accurate scheme that is unconditionally stable and conserves the norm of the wave function."
   ]
  },
  {
   "cell_type": "markdown",
   "metadata": {},
   "source": [
    "![](schrodinger_equation_1D_pulse_CN.gif)"
   ]
  },
  {
   "cell_type": "code",
   "execution_count": 8,
   "metadata": {
    "tags": [
     "remove-input",
     "remove-cell"
    ]
   },
   "outputs": [],
   "source": [
    "from matplotlib.animation import FuncAnimation\n",
    "\n",
    "xk = []\n",
    "psi = np.zeros([N+1],dtype=np.cdouble)\n",
    "for k in range(N+1):\n",
    "    x = dx * k\n",
    "    xk.append(x)\n",
    "    #print(x,\" \",x0,\" \", psi0(x))\n",
    "    psi[k] = psi0(x)\n",
    "psi[0] = 0\n",
    "psi[N] = 0\n",
    "\n",
    "fig, ax = plt.subplots(1, 1)\n",
    "fig.set_size_inches(7, 5, forward=True)\n",
    "fig.suptitle(\"Schroedinger equation (Crank-Nicholson Scheme)\", fontsize = 18)\n",
    "current_time = 0\n",
    "\n",
    "ax.set_xlabel('${x}$ [m]')\n",
    "ax.set_ylabel('${\\psi(x)}$')\n",
    "line = ax.plot(xk,np.abs(psi)**2, label=\"${|\\psi_0(x)}|^2$, norm = \" + '{:.5f}'.format(integral_psi2(psi,dx)/norm0))[0]\n",
    "title = ax.set_title(\"Schroedinger equation (Implicit)\")\n",
    "plt.legend(loc=\"upper right\")\n",
    "plt.xlim(0,L)\n",
    "plt.ylim(-1.1,1.1)\n",
    "\n",
    "scheme = 2\n",
    "\n",
    "fps = 30\n",
    "tottime = 10.\n",
    "ani = FuncAnimation(fig, animate_schrodinger_equation_FTCS, frames=round(fps * tottime), interval=1000/fps, repeat=False)\n",
    "plt.close();\n",
    "\n",
    "# ani.save(\"schrodinger_equation_1D_pulse_CN.gif\")\n",
    "\n",
    "# from IPython.display import HTML\n",
    "# HTML(ani.to_jshtml(default_mode=\"loop\"))"
   ]
  }
 ],
 "metadata": {
  "kernelspec": {
   "display_name": "CompPhys",
   "language": "python",
   "name": "python3"
  },
  "language_info": {
   "codemirror_mode": {
    "name": "ipython",
    "version": 3
   },
   "file_extension": ".py",
   "mimetype": "text/x-python",
   "name": "python",
   "nbconvert_exporter": "python",
   "pygments_lexer": "ipython3",
   "version": "3.10.13"
  }
 },
 "nbformat": 4,
 "nbformat_minor": 4
}
