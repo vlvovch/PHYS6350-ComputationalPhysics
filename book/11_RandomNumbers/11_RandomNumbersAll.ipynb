{
 "cells": [
  {
   "cell_type": "markdown",
   "metadata": {},
   "source": [
    "# Random numbers and Monte Carlo methods\n",
    "\n",
    "Random numbers play an important role, both in modelling of the physics processes (some of which are regarded as truly random, such as radioactive decay) and as a tool to tackle otherwise intractable problems.\n",
    "\n",
    "Examples:\n",
    "- Numerical integration (especially in many dimensions)\n",
    "- Sampling microstates in statistical mechanics\n",
    "- Simulating quantum processes\n",
    "- Monte Carlo event generators\n",
    "\n",
    "Numbers generated on a computer are usually not truly random, but a good generator produces numbers that reflect the desired properties of a random variable, hence it is called pseudo-random number generator.\n",
    "\n",
    "Here we cover various aspects of random number generation and Monte Carlo methods.\n",
    "\n",
    "\n",
    "```{tableofcontents}\n",
    "```\n"
   ]
  }
 ],
 "metadata": {
  "kernelspec": {
   "display_name": "Python 3 (ipykernel)",
   "language": "python",
   "name": "python3"
  },
  "language_info": {
   "codemirror_mode": {
    "name": "ipython",
    "version": 3
   },
   "file_extension": ".py",
   "mimetype": "text/x-python",
   "name": "python",
   "nbconvert_exporter": "python",
   "pygments_lexer": "ipython3",
   "version": "3.10.16"
  }
 },
 "nbformat": 4,
 "nbformat_minor": 4
}
