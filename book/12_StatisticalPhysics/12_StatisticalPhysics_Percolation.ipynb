{
 "cells": [
  {
   "cell_type": "markdown",
   "metadata": {},
   "source": [
    "```{admonition} Lecture Materials\n",
    ":class: tip\n",
    "[Download the slide deck for this lecture](https://github.com/vlvovch/PHYS6350-ComputationalPhysics/blob/spring2025/slides/Lecture20-04-06-25-StatisticalPhysics-2.pdf)\n",
    "```"
   ]
  },
  {
   "cell_type": "markdown",
   "metadata": {},
   "source": [
    "# Percolation threshold\n",
    "\n",
    "![percolation](img/perco1.png)\n",
    "\n",
    "Percolation theory studies the formation of long-range connectivity in random systems.\n",
    "Discrete percolation can be considered on a lattice, where each site can be either free or occuppied, and connected to neighboring sites. In continuum percolation one fills available space with overlapping object that can overlap and bond into clusters.\n",
    "\n",
    "Above a certain occupation threshold -- called percolation threshold $0 < p_c < 1$ there exists a giant connected component of order of system size, while below it it does not.\n",
    "In practice the connected component may correspond to fluid flow through a porous medium, or an electrically conductive admixture.\n",
    "\n",
    "Near $p = p_c$ the system can exhibit many interesting phenomena similar to critical phenomena near the critical point.\n"
   ]
  },
  {
   "cell_type": "markdown",
   "metadata": {},
   "source": [
    "## Square lattice percolation\n",
    "\n",
    "In square lattice percolation one has an $N$x$N$ grid where each site is occupied with a probability $p$ and the neighboring occupied sites can form a cluster.\n",
    "\n",
    "We can estimate the percolation threshold $p_c$ through Monte Carlo modeling.\n",
    "There are two strategies we can employ:\n",
    "- Consider different values of $p$. For every given $p$ label each site with probability $p$ to be occupied. Then use cluster-finding algorithm and see if a percolating cluster (for instance one that runs all the way from top to bottom of the grid) is formed. For large enough $N$ we expect that percolating cluster forms for $p > p_c$ and does not form for $p < p_c$.\n",
    "- Randomly pick unoccupied site and mark it as occupied. Check if a percolating cluster is found. If not, repeat the process by labeling a new unoccupied site as occupied until a percolating cluster is formed. We expect the percolating cluster to form when the ratio of occupied sites to the total number of sites is of order $p_c$.\n",
    "\n",
    "Let us implement the 2nd strategy. For efficient cluster finding we will use the [union-find data structure](https://en.wikipedia.org/wiki/Disjoint-set_data_structure)."
   ]
  },
  {
   "cell_type": "code",
   "execution_count": 4,
   "metadata": {},
   "outputs": [],
   "source": [
    "# Class implementing the union-find structure with a 2D (x,y) index\n",
    "# This will also store the minimum and maximum y (vertical) coordinate of each set\n",
    "class UnionFind:\n",
    "    def __init__(self, N):\n",
    "        self.N = N\n",
    "        self.parent = list(range(N**2))\n",
    "        self.rank = [0] * N**2\n",
    "        self.maxy = [0] * N**2\n",
    "        self.miny = [0] * N**2\n",
    "        for x in range(N):\n",
    "            for y in range (N):\n",
    "                ind = self.index(x,y)\n",
    "                self.maxy[ind] = y\n",
    "                self.miny[ind] = y\n",
    "\n",
    "    def index(self, x, y):\n",
    "        return self.N * x + y\n",
    "    \n",
    "    def findxy(self, x, y):\n",
    "        return self.find(self.index(x,y))\n",
    "                \n",
    "    def find(self, ind):\n",
    "        if self.parent[ind] != ind:\n",
    "            self.parent[ind] = self.find(self.parent[ind])\n",
    "        return self.parent[ind]\n",
    "    \n",
    "    def unionxy(self, x1, y1, x2, y2):\n",
    "        self.union(self.index(x1,y1), self.index(x2,y2))\n",
    "\n",
    "    def union(self, ind1, ind2):\n",
    "        root_1 = self.find(ind1)\n",
    "        root_2 = self.find(ind2)\n",
    "\n",
    "        if root_1 == root_2:\n",
    "            return\n",
    "\n",
    "        if self.rank[root_1] > self.rank[root_2]:\n",
    "            self.maxy[root_1] = max(self.maxy[root_1], self.maxy[root_2])\n",
    "            self.miny[root_1] = min(self.miny[root_1], self.miny[root_2])\n",
    "            self.parent[root_2] = root_1\n",
    "        else:\n",
    "            self.maxy[root_2] = max(self.maxy[root_1], self.maxy[root_2])\n",
    "            self.miny[root_2] = min(self.miny[root_1], self.miny[root_2])\n",
    "            self.parent[root_1] = root_2\n",
    "            if self.rank[root_1] == self.rank[root_2]:\n",
    "                self.rank[root_2] += 1"
   ]
  },
  {
   "cell_type": "code",
   "execution_count": 5,
   "metadata": {},
   "outputs": [],
   "source": [
    "import numpy as np\n",
    "from IPython.display import clear_output\n",
    "import time\n",
    "import matplotlib.pyplot as plt\n",
    "from matplotlib.colors import ListedColormap\n",
    "\n",
    "plotSimulation = True\n",
    "\n",
    "## Simulate percolation threshold on a square in 2D\n",
    "## Return the fraction of occupied cells at percolation\n",
    "def simulateSquarePercolation(N):\n",
    "    cells = np.zeros([N,N])\n",
    "    occupied = 0\n",
    "    uf = UnionFind(N)\n",
    "    while True:\n",
    "        # Choose unoccupied cell to occupy\n",
    "        while True:\n",
    "            ind = np.random.randint(N**2)\n",
    "            x = ind // N\n",
    "            y = ind % N\n",
    "            if (cells[x][y] == 0):\n",
    "                break\n",
    "        cells[x][y] = 1\n",
    "        occupied += 1\n",
    "        \n",
    "        # Add the new cell to existing clusters\n",
    "        if (x > 0 and cells[x-1][y] == 1):\n",
    "            uf.unionxy(x,y,x-1,y)\n",
    "        if (x < N - 1 and cells[x+1][y] == 1):\n",
    "            uf.unionxy(x,y,x+1,y)\n",
    "        if (y > 0 and cells[x][y-1] == 1):\n",
    "            uf.unionxy(x,y,x,y-1)\n",
    "        if (y < N - 1 and cells[x][y+1] == 1):\n",
    "            uf.unionxy(x,y,x,y+1)\n",
    "        \n",
    "        ymin = uf.miny[uf.find(ind)]\n",
    "        ymax = uf.maxy[uf.find(ind)]\n",
    "        \n",
    "        # plot the data points\n",
    "        if plotSimulation:\n",
    "            toPlot = False\n",
    "            # Percolating cluster found\n",
    "            if (ymin == 0 and ymax == N-1):\n",
    "                indperc = uf.find(ind)\n",
    "                for x in range(N):\n",
    "                    for y in range(N):\n",
    "                        if (uf.findxy(x,y) == indperc):\n",
    "                            cells[x][y] = 2\n",
    "                toPlot = True\n",
    "            \n",
    "            if (occupied%400 == 0):\n",
    "                toPlot = True\n",
    "            \n",
    "            if (toPlot):\n",
    "                clear_output(wait=True)\n",
    "                # time.sleep(0.01)\n",
    "                plt.title(\"Square percolation, ${p = }$\" + '{0:.3f}'.format(occupied / N**2))\n",
    "                plt.xlabel(\"x\")\n",
    "                plt.ylabel(\"y\")\n",
    "                cmap = ListedColormap(['w', 'black', 'red'])\n",
    "                CS = plt.imshow(cells.T, vmax=2, vmin=0,origin=\"lower\",extent=[0,N,0,N], cmap=cmap,  interpolation='nearest')\n",
    "                # plt.colorbar(CS)\n",
    "                plt.show()\n",
    "        \n",
    "        # Check if percolating cluster is found\n",
    "        if (ymin == 0 and ymax == N-1):     \n",
    "            return occupied / N**2"
   ]
  },
  {
   "cell_type": "markdown",
   "metadata": {},
   "source": [
    "Perform a single simulation of square percolation for N = 400."
   ]
  },
  {
   "cell_type": "code",
   "execution_count": 18,
   "metadata": {
    "tags": [
     "remove-cell"
    ]
   },
   "outputs": [],
   "source": [
    "plotSimulation = False\n",
    "np.random.seed(1)\n"
   ]
  },
  {
   "cell_type": "code",
   "execution_count": 19,
   "metadata": {},
   "outputs": [
    {
     "name": "stdout",
     "output_type": "stream",
     "text": [
      "p_c =  0.5914125\n"
     ]
    }
   ],
   "source": [
    "print(\"p_c = \", simulateSquarePercolation(400))"
   ]
  },
  {
   "cell_type": "markdown",
   "metadata": {},
   "source": [
    "```{image} img/perco_simul.png\n",
    ":width: 400px\n",
    ":align: center\n",
    "```"
   ]
  },
  {
   "cell_type": "markdown",
   "metadata": {},
   "source": [
    "The obtained value of $p_c$ is very close to the literature value of $p_c \\approx 0.5927..$.\n",
    "\n",
    "To estimate the error of the obtained value of $p_c$, we can performe the simulation multiple times and estimate the error of the average value."
   ]
  },
  {
   "cell_type": "code",
   "execution_count": 20,
   "metadata": {},
   "outputs": [],
   "source": [
    "# Simulate square NxN percolation M times\n",
    "# Returns average and the error estimate for pc\n",
    "def simulateSquarePercolationAverage(N, M):\n",
    "    total = 0\n",
    "    totalsq = 0\n",
    "    for i in range(M):\n",
    "        p = simulateSquarePercolation(N)\n",
    "        total += p\n",
    "        totalsq += p**2\n",
    "        \n",
    "    p_av = total / M\n",
    "    p2_av = totalsq / M\n",
    "    \n",
    "    return p_av, np.sqrt((p2_av - p_av**2)/N)"
   ]
  },
  {
   "cell_type": "code",
   "execution_count": 21,
   "metadata": {},
   "outputs": [
    {
     "name": "stdout",
     "output_type": "stream",
     "text": [
      "Simulating square percolation\n",
      "NxN =  10 x 10  with M = 10000 samples\n",
      "p_c =  0.5913600000000038 +- 0.02296586684624111\n",
      "CPU times: user 2.73 s, sys: 54.7 ms, total: 2.78 s\n",
      "Wall time: 2.96 s\n"
     ]
    }
   ],
   "source": [
    "%%time\n",
    "\n",
    "N = 10\n",
    "M = 10000\n",
    "plotSimulation = False\n",
    "\n",
    "pc, pc_err = simulateSquarePercolationAverage(N,M)\n",
    "print(\"Simulating square percolation\")\n",
    "print(\"NxN = \",N,\"x\",N,\" with M =\",M, \"samples\")\n",
    "print(\"p_c = \", pc, \"+-\", pc_err)"
   ]
  }
 ],
 "metadata": {
  "kernelspec": {
   "display_name": "CompPhys",
   "language": "python",
   "name": "python3"
  },
  "language_info": {
   "codemirror_mode": {
    "name": "ipython",
    "version": 3
   },
   "file_extension": ".py",
   "mimetype": "text/x-python",
   "name": "python",
   "nbconvert_exporter": "python",
   "pygments_lexer": "ipython3",
   "version": "3.10.13"
  }
 },
 "nbformat": 4,
 "nbformat_minor": 4
}
