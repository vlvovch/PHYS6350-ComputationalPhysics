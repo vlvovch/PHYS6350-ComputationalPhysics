{
 "cells": [
  {
   "cell_type": "code",
   "execution_count": 2,
   "metadata": {},
   "outputs": [],
   "source": [
    "import numpy as np"
   ]
  },
  {
   "cell_type": "markdown",
   "metadata": {},
   "source": [
    "# Example: Susceptibility and Bose-Einstein condensation\n",
    "\n",
    "Recall the density of an ideal gas:\n",
    "\n",
    "$$\n",
    "\\tilde n (T,\\tilde \\mu) = \\frac{d}{2\\pi^2} \\int_0^\\infty d \\tilde k \\, \\tilde k^2 \\, \\left[\\exp\\left\\{\\sqrt{\\tilde{m}^2+\\tilde k^2}-\\tilde{\\mu}\\right\\} + \\eta \\right ]^{-1}~,\n",
    "$$\n",
    "\n",
    "where $\\tilde n \\equiv n/T^3$, $\\tilde m = m/T$, and $\\tilde \\mu = \\mu / T$.\n",
    "\n",
    "\n",
    "This density can be computed using numerical integration.\n",
    "In particular, we can use the Gauss-Laguerre quadrature to compute the integral, given the integration limits $[0,\\infty)$ and the asymptotic behavior of the integrand at infinity, $\\sim \\exp(-\\tilde k^2)$.\n",
    "\n",
    "The susceptibility is defined as a derivative of the density with respect to chemical potential\n",
    "\n",
    "$$\n",
    "\\chi_2 = \\frac{\\partial \\tilde{n} (\\tilde T, \\tilde{\\mu})}{\\partial \\tilde \\mu}.\n",
    "$$\n",
    "\n",
    "For a pion gas ($m = 138~\\textrm{MeV}, d = 1, T = 150~\\textrm{MeV}$),\n",
    "\n",
    "1. Compute the susceptibility $\\chi_2$ using finite differences at $\\tilde{\\mu} = 0$, for $\\eta = 0$ and $\\eta = -1$.\n",
    "2. Compare the result for $\\chi_2$ to the one obtained by numerically integrating the following expression\n",
    "\n",
    "$$\n",
    "\\chi_2 = \\frac{d}{2\\pi^2} \\int_0^\\infty d \\tilde k \\, \\tilde k^2 \\, \\frac{\\exp\\left\\{\\sqrt{\\tilde{m}^2+\\tilde k^2}-\\tilde{\\mu}\\right\\}} {\\left[\\exp\\left\\{\\sqrt{\\tilde{m}^2+\\tilde k^2}-\\tilde{\\mu}\\right\\} + \\eta \\right ]^{2}},\n",
    "$$\n",
    "\n",
    "3. Compute the susceptibility as a function of $\\tilde{\\mu}$ in a range $\\tilde{\\mu} \\in (0,\\tilde{m})$. What is the behavior of $\\chi_2$ as $\\tilde{\\mu}$ approaches the Bose condensation point, $\\tilde{\\mu} = \\tilde{m}$?"
   ]
  },
  {
   "cell_type": "markdown",
   "metadata": {},
   "source": [
    "## Preliminaries\n",
    "\n",
    "We will utilize Gaussian quadratures to compute the integrals.\n",
    "Let us define (or import) the necessary routines.\n",
    "\n"
   ]
  },
  {
   "cell_type": "code",
   "execution_count": 5,
   "metadata": {},
   "outputs": [],
   "source": [
    "import numpy as np\n",
    "\n",
    "# Generic integration using quadratures\n",
    "def integrate_quadrature(\n",
    "    f,   # Function to be integrated \n",
    "    quad # A pair of lists (x,w) where x are the integration nodes and w are the weights \n",
    "                        ):\n",
    "    ret = 0.\n",
    "    n = len(quad[0])\n",
    "    for k in range(n):\n",
    "        xk = quad[0][k]\n",
    "        wk = quad[1][k]\n",
    "        ret += wk * f(xk)\n",
    "    return ret\n",
    "\n",
    "import sympy as sympy\n",
    "import math\n",
    "\n",
    "# Nodes and weight for n-point Gauss-Laguerre quadrature\n",
    "def laguerrexw(n):\n",
    "  x = sympy.Symbol(\"x\")\n",
    "  roots = sympy.Poly(sympy.laguerre(n, x)).all_roots()\n",
    "  x_i = [float(rt.evalf(20)) for rt in roots]\n",
    "  w_i = [float((rt / ((n + 1) * sympy.laguerre(n + 1, rt)) ** 2).evalf(20)) for rt in roots]\n",
    "  return x_i, w_i\n",
    "\n",
    "# Precomute 32-point Gauss-Laguerre quadrature\n",
    "laguerrexw32 = laguerrexw(32)"
   ]
  },
  {
   "cell_type": "markdown",
   "metadata": {},
   "source": [
    "Now we define the parameters and the function to be integrated"
   ]
  },
  {
   "cell_type": "code",
   "execution_count": 6,
   "metadata": {},
   "outputs": [],
   "source": [
    "# Parameters\n",
    "\n",
    "# Temperature (in MeV)\n",
    "T = 150\n",
    "\n",
    "# Chemical potential (in MeV)\n",
    "mu = 0\n",
    "\n",
    "# Mass (in MeV)\n",
    "m = 138\n",
    "\n",
    "# Degeneracy (1 for single pion)\n",
    "d = 1\n",
    "\n",
    "# Quantum statistics (0 for Maxwell-Boltzmann, -1 for Bose-Einstein)\n",
    "eta = 0\n",
    "\n",
    "# Integrand (quantum distribution function)\n",
    "def fThermal(x):\n",
    "    x = float(x)\n",
    "    return d * x**2 * np.exp(x) / (2 * np.pi**2) / (np.exp(np.sqrt((m/T)**2 + x**2) - mu/T) + eta)\n",
    "\n",
    "\n",
    "# Compute the density integral using Gauss-Laguerre quadrature\n",
    "# n_nodes: number of nodes (default: 32)\n",
    "def nIntegral(n_nodes = 32):\n",
    "    quad = laguerrexw32\n",
    "    if (n_nodes != 32):\n",
    "        quad = laguerrexw(n_nodes)\n",
    "    return integrate_quadrature(fThermal, quad)\n",
    "\n",
    "# Compute the density $n/T^3$ for given temperature and chemical potential\n",
    "def nT3num(inT, inMu, n_nodes = 32):\n",
    "    global T, mu\n",
    "    T = inT\n",
    "    mu = inMu\n",
    "    return nIntegral(n_nodes)\n",
    "\n",
    "from scipy.special import kn\n",
    "\n",
    "# Analytic expression for the density $n/T^3$ in the Maxwell-Boltzmann limit\n",
    "def nT3analyt(T, mu, m, d = 1):\n",
    "    return d * m**2 / (2 * np.pi**2 * T**2) * kn(2,m/T) * np.exp(mu/T)"
   ]
  },
  {
   "cell_type": "markdown",
   "metadata": {},
   "source": [
    "Test that we reproduce the known result for Maxwell-Boltzmann statistics"
   ]
  },
  {
   "cell_type": "code",
   "execution_count": 9,
   "metadata": {},
   "outputs": [
    {
     "name": "stdout",
     "output_type": "stream",
     "text": [
      "Maxwell-Boltzmann n/T^3 = 0.0847224926254013 (numerical integration)\n",
      "Maxwell-Boltzmann n/T^3 = 0.08472249379368636 (analytic integration)\n",
      "Bose-Einstein n/T^3 = 0.09332222578416971 (numerical integration)\n"
     ]
    }
   ],
   "source": [
    "eta = 0\n",
    "T = 150\n",
    "mu = 0\n",
    "NGL = 32\n",
    "\n",
    "print(\"Maxwell-Boltzmann n/T^3 =\", nT3num(T, mu, NGL), \"(numerical integration)\")\n",
    "print(\"Maxwell-Boltzmann n/T^3 =\", nT3analyt(T, mu, m, d),\"(analytic integration)\")\n",
    "\n",
    "eta = -1\n",
    "print(\"Bose-Einstein n/T^3 =\", nT3num(T, mu, NGL), \"(numerical integration)\")\n"
   ]
  },
  {
   "cell_type": "markdown",
   "metadata": {},
   "source": [
    "## Step 1: Central difference\n",
    "\n",
    "Let us compute $\\chi_2$ as a central difference applied to $n(T, \\mu)$:\n",
    "\n",
    "$$\n",
    "\\chi_2 = \\frac{d \\tilde n(\\tilde T, \\tilde \\mu)}{d \\mu} = \\frac{\\tilde n(\\tilde T, \\tilde \\mu + \\Delta \\tilde \\mu) - \\tilde n(\\tilde T, \\tilde \\mu - \\Delta \\tilde \\mu)}{2 \\Delta \\tilde \\mu}\n",
    "$$\n",
    "\n",
    "We will use central difference"
   ]
  },
  {
   "cell_type": "code",
   "execution_count": 12,
   "metadata": {},
   "outputs": [
    {
     "name": "stdout",
     "output_type": "stream",
     "text": [
      "Maxwell-Boltzmann chi2 = 0.08472249266727738 (central difference)\n",
      "    Bose-Einstein chi2 = 0.10403947290141269 (central difference)\n"
     ]
    }
   ],
   "source": [
    "def chinumder(T, mu, dmu, NGL = 32):\n",
    "    # mu - chemical potential\n",
    "    # dmu - step size in dimensionless mu for numerical derivative\n",
    "    # eps - accuracy goal for numerical integration\n",
    "    \n",
    "    # Central difference\n",
    "    # chi ~ T * (nT3(mu + dmu) - nT3(mu - dmu)) / (2 * dmu)\n",
    "    nplus = nT3num(T, mu + dmu, NGL)\n",
    "    nminus = nT3num(T, mu - dmu, NGL)\n",
    "    return T * (nplus - nminus) / (2 * dmu)\n",
    "\n",
    "T = 150\n",
    "mu = 0\n",
    "m = 138\n",
    "d = 1\n",
    "\n",
    "eta = 0\n",
    "dmu = 1.e-4\n",
    "print(\"Maxwell-Boltzmann chi2 =\", chinumder(T, mu, dmu, NGL),\"(central difference)\")\n",
    "eta = -1\n",
    "print(\"    Bose-Einstein chi2 =\", chinumder(T, mu, dmu, NGL),\"(central difference)\")"
   ]
  },
  {
   "cell_type": "markdown",
   "metadata": {},
   "source": [
    "## Step 2: Numerical integration"
   ]
  },
  {
   "cell_type": "code",
   "execution_count": 13,
   "metadata": {},
   "outputs": [
    {
     "name": "stdout",
     "output_type": "stream",
     "text": [
      "    Bose-Einstein chi2 = 0.10403956033629298 (Gauss-Laguerre)\n"
     ]
    }
   ],
   "source": [
    "# Implement the evaluation of chi2 using numerical integration\n",
    "def chiIntegral(T, mu, NGL = 32):\n",
    "    # NGL - number of subintervals for rectangle rule evaluating the integral\n",
    "    def chi2Integrand(k):\n",
    "        return d / (2. * np.pi**2) * k**2 * np.exp(k) * np.exp(np.sqrt((m/T)**2+k**2)-mu/T) / (np.exp(np.sqrt((m/T)**2+k**2)-mu/T) + eta)**2\n",
    "    \n",
    "    quad = laguerrexw32\n",
    "    if (NGL != 32):\n",
    "        quad = laguerrexw(NGL)\n",
    "    return integrate_quadrature(chi2Integrand, quad)\n",
    "\n",
    "T = 150\n",
    "mu = 0\n",
    "eta = -1\n",
    "\n",
    "print(\"    Bose-Einstein chi2 =\", chiIntegral(T, mu, NGL), \"(Gauss-Laguerre)\")"
   ]
  },
  {
   "cell_type": "markdown",
   "metadata": {},
   "source": [
    "## Step 3: Dependency of chi2 on mu"
   ]
  },
  {
   "cell_type": "markdown",
   "metadata": {},
   "source": [
    "Let us compute the susceptibility as a function of chemical potential $\\mu$ for fixed $T = 150$ MeV. Since we are interested in the behavior of $\\chi_2$ in the neighborhood of $\\mu = m_\\pi = 138$ MeV we will use a dense grid in range $\\mu = 137-138$ MeV."
   ]
  },
  {
   "cell_type": "code",
   "execution_count": 14,
   "metadata": {},
   "outputs": [],
   "source": [
    "# mus = np.arange(0., 138., 1.)\n",
    "mus = np.arange(137., 138., 0.01)\n",
    "chi2sNder = []\n",
    "chi2sNint = []\n",
    "\n",
    "dmu = 0.0001\n",
    "\n",
    "for mu in mus:\n",
    "    chi2sNder.append(chinumder(T, mu, dmu, NGL))\n",
    "    chi2sNint.append(chiIntegral(T, mu, NGL))"
   ]
  },
  {
   "cell_type": "markdown",
   "metadata": {},
   "source": [
    "Let us plot the results"
   ]
  },
  {
   "cell_type": "code",
   "execution_count": 19,
   "metadata": {
    "tags": [
     "hide-input"
    ]
   },
   "outputs": [
    {
     "data": {
      "image/png": "[encoded data removed]",
      "text/plain": [
       "<Figure size 640x480 with 1 Axes>"
      ]
     },
     "metadata": {},
     "output_type": "display_data"
    }
   ],
   "source": [
    "# Plot the results\n",
    "import matplotlib.pyplot as plt\n",
    "\n",
    "params = {'legend.fontsize': 'large',\n",
    "         'axes.labelsize': 'x-large',\n",
    "         'axes.titlesize':'x-large',\n",
    "         'xtick.labelsize':'x-large',\n",
    "         'ytick.labelsize':'x-large',\n",
    "         'xtick.direction':'in',\n",
    "         'ytick.direction':'in',\n",
    "         }\n",
    "plt.rcParams.update(params)\n",
    "\n",
    "plt.plot(mus, chi2sNder, label = \"Numerical derivative\", linestyle = '-', color = 'blue')\n",
    "plt.plot(mus, chi2sNint, label = \"Numerical integration\", linestyle = '--', color = 'red')\n",
    "\n",
    "plt.xlabel(\"${\\mu}$ [MeV]\")\n",
    "plt.ylabel(\"${\\\\chi_2}$\")\n",
    "plt.xlim(mus[0],m)\n",
    "\n",
    "plt.legend()\n",
    "\n",
    "plt.show()"
   ]
  },
  {
   "cell_type": "markdown",
   "metadata": {},
   "source": [
    "## BONUS: Using automatic differentiation"
   ]
  },
  {
   "cell_type": "markdown",
   "metadata": {},
   "source": [
    "Let us use automatic differentiation to compute the susceptibility.\n",
    "Here we will utilize MyGrad.\n",
    "\n",
    "First, we define the density integrand in appropriate way for MyGrad"
   ]
  },
  {
   "cell_type": "code",
   "execution_count": 20,
   "metadata": {},
   "outputs": [],
   "source": [
    "import mygrad as mg\n",
    "\n",
    "def dfdx_mygrad(func, x):\n",
    "    xx = mg.Tensor(x)\n",
    "    y = func(xx)\n",
    "    y.backward()\n",
    "    return xx.grad\n",
    "\n",
    "from mygrad import exp, sqrt\n",
    "\n",
    "def fThermalMG(x):\n",
    "    return d * x**2 * exp(x) / (2 * np.pi**2) / (exp(sqrt((m/T)**2 + x**2) - muAD/T) + eta)"
   ]
  },
  {
   "cell_type": "markdown",
   "metadata": {},
   "source": [
    "We compute the susceptibility using automatic differentiation as a gradient of the density."
   ]
  },
  {
   "cell_type": "code",
   "execution_count": 21,
   "metadata": {},
   "outputs": [],
   "source": [
    "def chi2AD(inT, inMu, NGL = 32):\n",
    "    global T, mu\n",
    "    T = inT\n",
    "    mu = inMu\n",
    "    quad = laguerrexw32\n",
    "    if (NGL != 32):\n",
    "        quad = laguerrexw(NGL)\n",
    "\n",
    "    def fAD(x):\n",
    "        global muAD\n",
    "        muAD = x\n",
    "        return integrate_quadrature(fThermalMG, quad)\n",
    "    \n",
    "    return T * dfdx_mygrad(fAD, mu)"
   ]
  },
  {
   "cell_type": "markdown",
   "metadata": {},
   "source": [
    "Let us perform the calculation and perform a comparison to other methods."
   ]
  },
  {
   "cell_type": "code",
   "execution_count": 22,
   "metadata": {
    "tags": [
     "hide-input"
    ]
   },
   "outputs": [
    {
     "data": {
      "image/png": "[encoded data removed]",
      "text/plain": [
       "<Figure size 640x480 with 1 Axes>"
      ]
     },
     "metadata": {},
     "output_type": "display_data"
    }
   ],
   "source": [
    "mus = np.arange(0., 138., 1.)\n",
    "mus = np.arange(137., 138., 0.01)\n",
    "# print(mus)\n",
    "chi2sNder = []\n",
    "chi2sNint = []\n",
    "chi2sAD = []\n",
    "\n",
    "dmu = 0.0001\n",
    "\n",
    "for mu in mus:\n",
    "    chi2sNder.append(chinumder(T, mu, dmu, NGL))\n",
    "    chi2sNint.append(chiIntegral(T, mu, NGL))\n",
    "    chi2sAD.append(chi2AD(T, mu, NGL))\n",
    "\n",
    "plt.plot(mus, chi2sNder, label = \"Finite difference\", linestyle = '-', color = 'blue')\n",
    "plt.plot(mus, chi2sNint, label = \"Analytical\", linestyle = '--', color = 'red')\n",
    "plt.plot(mus, chi2sAD, label = \"Automatic differentiation\", linestyle = '-.', color = 'green')\n",
    "\n",
    "plt.xlabel(\"${\\mu}$ [MeV]\")\n",
    "plt.ylabel(\"${\\\\chi_2}$\")\n",
    "plt.xlim(mus[0],m)\n",
    "\n",
    "plt.legend()\n",
    "\n",
    "plt.show()"
   ]
  }
 ],
 "metadata": {
  "kernelspec": {
   "display_name": "CompPhys",
   "language": "python",
   "name": "python3"
  },
  "language_info": {
   "codemirror_mode": {
    "name": "ipython",
    "version": 3
   },
   "file_extension": ".py",
   "mimetype": "text/x-python",
   "name": "python",
   "nbconvert_exporter": "python",
   "pygments_lexer": "ipython3",
   "version": "3.10.13"
  }
 },
 "nbformat": 4,
 "nbformat_minor": 2
}
