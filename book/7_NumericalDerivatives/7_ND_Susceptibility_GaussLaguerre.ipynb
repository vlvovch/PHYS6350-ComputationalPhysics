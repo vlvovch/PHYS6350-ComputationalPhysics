{
 "cells": [
  {
   "cell_type": "code",
   "execution_count": 5,
   "metadata": {},
   "outputs": [],
   "source": [
    "import numpy as np"
   ]
  },
  {
   "cell_type": "markdown",
   "metadata": {},
   "source": [
    "## Example: Susceptibility and Bose-Einstein condensation\n",
    "\n",
    "Recall the density of an ideal gas:\n",
    "$$\n",
    "\\tilde n (T,\\tilde \\mu) = \\frac{d}{2\\pi^2} \\int_0^\\infty d \\tilde k \\, \\tilde k^2 \\, \\left[\\exp\\left\\{\\sqrt{\\tilde{m}^2+\\tilde k^2}-\\tilde{\\mu}\\right\\} + \\eta \\right ]^{-1}~,\n",
    "$$\n",
    "where $\\tilde n \\equiv n/T^3$, $\\tilde m = m/T$, and $\\tilde \\mu = \\mu / T$.\n",
    "\n",
    "\n",
    "We previosuly learned to calculate this density using numerical integration.\n",
    "The susceptibility is defined as a derivative of the density with respect to chemical potential\n",
    "$$\n",
    "\\chi_2 = \\frac{\\partial \\tilde{n} (\\tilde T, \\tilde{\\mu})}{\\partial \\tilde \\mu}.\n",
    "$$\n",
    "\n",
    "For a pion gas ($m = 138~\\textrm{MeV}, d = 1, T = 150~\\textrm{MeV}$),\n",
    "\n",
    "1. Compute the susceptibility $\\chi_2$ using finite differences at $\\tilde{\\mu} = 0$, for $\\eta = 0$ and $\\eta = -1$.\n",
    "2. Compare the result for $\\chi_2$ to the one obtained by numerically integrating the following expression\n",
    "$$\n",
    "\\chi_2 = \\frac{d}{2\\pi^2} \\int_0^\\infty d \\tilde k \\, \\tilde k^2 \\, \\frac{\\exp\\left\\{\\sqrt{\\tilde{m}^2+\\tilde k^2}-\\tilde{\\mu}\\right\\}} {\\left[\\exp\\left\\{\\sqrt{\\tilde{m}^2+\\tilde k^2}-\\tilde{\\mu}\\right\\} + \\eta \\right ]^{2}},\n",
    "$$\n",
    "3. Compute the susceptibility as a function of $\\tilde{\\mu}$ in a range $\\tilde{\\mu} \\in (0,\\tilde{m})$. What is the behavior of $\\chi_2$ as $\\tilde{\\mu}$ approaches the Bose condensation point, $\\tilde{\\mu} = \\tilde{m}$?"
   ]
  },
  {
   "cell_type": "markdown",
   "metadata": {},
   "source": [
    "## Solution"
   ]
  },
  {
   "cell_type": "markdown",
   "metadata": {},
   "source": [
    "## Preliminaries\n",
    "\n",
    "Import numerical integration routines and the density as a numerical integral\n",
    "\n"
   ]
  },
  {
   "cell_type": "code",
   "execution_count": 1,
   "metadata": {},
   "outputs": [
    {
     "name": "stdout",
     "output_type": "stream",
     "text": [
      "0\n"
     ]
    }
   ],
   "source": [
    "from IntegrateGauss import *\n",
    "from NI_density_aux_GaussLaguerre import *\n",
    "import NI_density_aux_GaussLaguerre\n",
    "print(eta)"
   ]
  },
  {
   "cell_type": "markdown",
   "metadata": {},
   "source": [
    "Test that it works as expected"
   ]
  },
  {
   "cell_type": "code",
   "execution_count": 2,
   "metadata": {},
   "outputs": [
    {
     "name": "stdout",
     "output_type": "stream",
     "text": [
      "Testing NI_density_aux.py\n",
      "n/T^3 = 0.09332222578416971\n"
     ]
    }
   ],
   "source": [
    "NI_density_aux_GaussLaguerre.eta = -1\n",
    "T = 150\n",
    "mu = 0\n",
    "NGL = 32\n",
    "\n",
    "print(\"Testing NI_density_aux.py\")\n",
    "print(\"n/T^3 =\", nT3num(T, mu, NGL))\n",
    "# print(\"n/T^3 =\", nT3numNrect(T, mu, 100))"
   ]
  },
  {
   "cell_type": "markdown",
   "metadata": {},
   "source": [
    "## Step 1\n",
    "\n",
    "We will use central difference"
   ]
  },
  {
   "cell_type": "code",
   "execution_count": 3,
   "metadata": {},
   "outputs": [
    {
     "name": "stdout",
     "output_type": "stream",
     "text": [
      "Maxwell-Boltzmann chi2 = 0.08472249266727738\n",
      "    Bose-Einstein chi2 = 0.10403956037310924\n"
     ]
    }
   ],
   "source": [
    "def chinumder(T, mu, dmu, NGL = 32):\n",
    "    # mu - chemical potential\n",
    "    # dmu - step size in dimensionless mu for numerical derivative\n",
    "    # eps - accuracy goal for numerical integration\n",
    "    \n",
    "    # Central difference\n",
    "    # chi ~ T * (nT3(mu + dmu) - nT3(mu - dmu)) / (2 * dmu)\n",
    "    nplus = nT3num(T, mu + dmu, NGL)\n",
    "    nminus = nT3num(T, mu - dmu, NGL)\n",
    "    return T * (nplus - nminus) / (2 * dmu)\n",
    "\n",
    "T = 150\n",
    "mu = 0\n",
    "m = 138\n",
    "d = 1\n",
    "\n",
    "NI_density_aux_GaussLaguerre.eta = 0\n",
    "dmu = 1.e-4\n",
    "print(\"Maxwell-Boltzmann chi2 =\", chinumder(T, mu, dmu, NGL))\n",
    "NI_density_aux_GaussLaguerre.eta = -1\n",
    "print(\"    Bose-Einstein chi2 =\", chinumder(T, mu, dmu, NGL))"
   ]
  },
  {
   "cell_type": "markdown",
   "metadata": {},
   "source": [
    "## Step 2"
   ]
  },
  {
   "cell_type": "code",
   "execution_count": 5,
   "metadata": {},
   "outputs": [
    {
     "name": "stdout",
     "output_type": "stream",
     "text": [
      "    Bose-Einstein chi2 = 0.10403956033629298\n"
     ]
    }
   ],
   "source": [
    "# Implement the evaluation of chi2 using numerical integration\n",
    "def chiIntegral(T, mu, NGL = 32):\n",
    "    # Nrect - number of subintervals for rectangle rule evaluating the integral\n",
    "    # print(\"chiIntegral not implemented!\")\n",
    "    def chi2Integrand(k):\n",
    "        return d / (2. * np.pi**2) * k**2 * np.exp(k) * np.exp(np.sqrt((m/T)**2+k**2)-mu/T) / (np.exp(np.sqrt((m/T)**2+k**2)-mu/T) + eta)**2\n",
    "    \n",
    "    quad = laguerrexw32\n",
    "    if (NGL != 32):\n",
    "        quad = laguerrexw(NGL)\n",
    "    return integrate_quadrature(chi2Integrand, quad)\n",
    "\n",
    "T = 150\n",
    "mu = 0\n",
    "eta = NI_density_aux_GaussLaguerre.eta = -1\n",
    "\n",
    "print(\"    Bose-Einstein chi2 =\", chiIntegral(T, mu, NGL))"
   ]
  },
  {
   "cell_type": "markdown",
   "metadata": {},
   "source": [
    "## Step 3"
   ]
  },
  {
   "cell_type": "code",
   "execution_count": 6,
   "metadata": {},
   "outputs": [
    {
     "name": "stdout",
     "output_type": "stream",
     "text": [
      "Numerical derivative chi2 = 5.251540717413072\n",
      "            Analytic chi2 = 5.251540163511\n"
     ]
    }
   ],
   "source": [
    "# T = 150\n",
    "# m = NI_density_aux.m = 138\n",
    "muval = 137.9\n",
    "eta = NI_density_aux_GaussLaguerre.eta = -1\n",
    "dmu = 0.0001\n",
    "print(\"Numerical derivative chi2 =\", chinumder(T, muval, dmu, NGL))\n",
    "mu = muval\n",
    "print(\"            Analytic chi2 =\", chiIntegral(T, muval, NGL))"
   ]
  },
  {
   "cell_type": "code",
   "execution_count": 7,
   "metadata": {},
   "outputs": [],
   "source": [
    "mus = np.arange(0., 138., 1.)\n",
    "mus = np.arange(137., 138., 0.01)\n",
    "# print(mus)\n",
    "chi2sNder = []\n",
    "chi2sNint = []\n",
    "\n",
    "dmu = 0.0001\n",
    "\n",
    "for mu in mus:\n",
    "    chi2sNder.append(chinumder(T, mu, dmu, NGL))\n",
    "    # chi2sNder.append(chinumderNrect(T, mu, dmu, Nrect))\n",
    "    chi2sNint.append(chiIntegral(T, mu, NGL))"
   ]
  },
  {
   "cell_type": "markdown",
   "metadata": {},
   "source": [
    "Numerical integration of $\\chi_2$ is not very stable due to singular behavior of $\\chi_2$ near $\\mu = m$.\n",
    "\n",
    "This can be mitigated by utilizing Gauss-Laguerre quadrature (try it!)"
   ]
  },
  {
   "cell_type": "markdown",
   "metadata": {},
   "source": [
    "Let us plot the results"
   ]
  },
  {
   "cell_type": "code",
   "execution_count": 10,
   "metadata": {},
   "outputs": [
    {
     "data": {
      "image/png": "[encoded data removed]",
      "text/plain": [
       "<Figure size 640x480 with 1 Axes>"
      ]
     },
     "metadata": {},
     "output_type": "display_data"
    }
   ],
   "source": [
    "# Plot the results\n",
    "import matplotlib.pyplot as plt\n",
    "\n",
    "params = {'legend.fontsize': 'large',\n",
    "         'axes.labelsize': 'x-large',\n",
    "         'axes.titlesize':'x-large',\n",
    "         'xtick.labelsize':'x-large',\n",
    "         'ytick.labelsize':'x-large',\n",
    "         'xtick.direction':'in',\n",
    "         'ytick.direction':'in',\n",
    "         }\n",
    "plt.rcParams.update(params)\n",
    "\n",
    "plt.plot(mus, chi2sNder, label = \"Numerical derivative\", linestyle = '-', color = 'blue')\n",
    "plt.plot(mus, chi2sNint, label = \"Numerical integration\", linestyle = '--', color = 'red')\n",
    "\n",
    "plt.xlabel(\"${\\mu}$ [MeV]\")\n",
    "plt.ylabel(\"${\\\\chi_2}$\")\n",
    "plt.xlim(mus[0],m)\n",
    "\n",
    "plt.legend()\n",
    "\n",
    "plt.show()"
   ]
  },
  {
   "cell_type": "markdown",
   "metadata": {},
   "source": [
    "## BONUS: Using automatic differentiation"
   ]
  },
  {
   "cell_type": "code",
   "execution_count": 11,
   "metadata": {},
   "outputs": [],
   "source": [
    "import mygrad as mg\n",
    "\n",
    "def dfdx_mygrad(func, x):\n",
    "    xx = mg.Tensor(x)\n",
    "    y = func(xx)\n",
    "    y.backward()\n",
    "    return xx.grad\n",
    "\n",
    "from mygrad import exp, sqrt\n",
    "\n",
    "def fThermalMG(x):\n",
    "    return d * x**2 * exp(x) / (2 * np.pi**2) / (exp(sqrt((m/T)**2 + x**2) - muAD/T) + eta)\n",
    "\n",
    "def chi2AD(inT, inMu, NGL = 32):\n",
    "    global T, mu\n",
    "    T = inT\n",
    "    mu = inMu\n",
    "    quad = laguerrexw32\n",
    "    if (NGL != 32):\n",
    "        quad = laguerrexw(NGL)\n",
    "\n",
    "    def fAD(x):\n",
    "        global muAD\n",
    "        muAD = x\n",
    "        return integrate_quadrature(fThermalMG, quad)\n",
    "    \n",
    "    return T * dfdx_mygrad(fAD, mu)"
   ]
  },
  {
   "cell_type": "code",
   "execution_count": 14,
   "metadata": {},
   "outputs": [
    {
     "data": {
      "image/png": "[encoded data removed]",
      "text/plain": [
       "<Figure size 640x480 with 1 Axes>"
      ]
     },
     "metadata": {},
     "output_type": "display_data"
    }
   ],
   "source": [
    "mus = np.arange(0., 138., 1.)\n",
    "mus = np.arange(137., 138., 0.01)\n",
    "# print(mus)\n",
    "chi2sNder = []\n",
    "chi2sNint = []\n",
    "chi2sAD = []\n",
    "\n",
    "dmu = 0.0001\n",
    "\n",
    "for mu in mus:\n",
    "    chi2sNder.append(chinumder(T, mu, dmu, NGL))\n",
    "    chi2sNint.append(chiIntegral(T, mu, NGL))\n",
    "    chi2sAD.append(chi2AD(T, mu, NGL))\n",
    "\n",
    "plt.plot(mus, chi2sNder, label = \"Finite difference\", linestyle = '-', color = 'blue')\n",
    "plt.plot(mus, chi2sNint, label = \"Analytical\", linestyle = '--', color = 'red')\n",
    "plt.plot(mus, chi2sAD, label = \"Automatic differentiation\", linestyle = '-.', color = 'green')\n",
    "\n",
    "plt.xlabel(\"${\\mu}$ [MeV]\")\n",
    "plt.ylabel(\"${\\\\chi_2}$\")\n",
    "plt.xlim(mus[0],m)\n",
    "\n",
    "plt.legend()\n",
    "\n",
    "plt.show()"
   ]
  }
 ],
 "metadata": {
  "kernelspec": {
   "display_name": "Python 3 (ipykernel)",
   "language": "python",
   "name": "python3"
  },
  "language_info": {
   "codemirror_mode": {
    "name": "ipython",
    "version": 3
   },
   "file_extension": ".py",
   "mimetype": "text/x-python",
   "name": "python",
   "nbconvert_exporter": "python",
   "pygments_lexer": "ipython3",
   "version": "3.9.13"
  }
 },
 "nbformat": 4,
 "nbformat_minor": 2
}
