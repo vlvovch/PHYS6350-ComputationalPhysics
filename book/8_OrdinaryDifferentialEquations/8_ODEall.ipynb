{
 "cells": [
  {
   "cell_type": "markdown",
   "metadata": {},
   "source": [
    "# Ordinary differential equations (ODEs)\n",
    "\n",
    "Ordinary differential equations (ODEs) are equations that contain derivatives of a function with respect to a single variable. They are fundamental in physics and engineering, describing systems like mechanical motion, electrical circuits, and chemical reactions.\n",
    "In general, ODEs are written as:\n",
    "$$\n",
    "\\frac{dx}{dt} = f(x, t)\n",
    "$$\n",
    "\n",
    "There are various methods to tackle this problem explored in this chapter.\n",
    "\n",
    "```{tableofcontents}\n",
    "```\n"
   ]
  }
 ],
 "metadata": {
  "kernelspec": {
   "display_name": "Python 3 (ipykernel)",
   "language": "python",
   "name": "python3"
  },
  "language_info": {
   "codemirror_mode": {
    "name": "ipython",
    "version": 3
   },
   "file_extension": ".py",
   "mimetype": "text/x-python",
   "name": "python",
   "nbconvert_exporter": "python",
   "pygments_lexer": "ipython3",
   "version": "3.10.16"
  }
 },
 "nbformat": 4,
 "nbformat_minor": 4
}
